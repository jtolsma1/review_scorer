{
 "cells": [
  {
   "cell_type": "code",
   "execution_count": 1,
   "id": "c4cb674e",
   "metadata": {},
   "outputs": [],
   "source": [
    "from pathlib import Path\n",
    "import pandas as pd\n",
    "import numpy as np\n",
    "import json\n",
    "import joblib\n",
    "import requests\n",
    "import ast\n",
    "import re\n",
    "import unicodedata\n",
    "import inflect\n",
    "infl = inflect.engine()"
   ]
  },
  {
   "cell_type": "code",
   "execution_count": 2,
   "id": "9033f53a",
   "metadata": {},
   "outputs": [],
   "source": [
    "pd.set_option(\"display.max_columns\",None)"
   ]
  },
  {
   "cell_type": "markdown",
   "id": "ff51039e",
   "metadata": {},
   "source": [
    "### Raw Data Import and Dataset Build"
   ]
  },
  {
   "cell_type": "code",
   "execution_count": 3,
   "id": "ab60a7db",
   "metadata": {},
   "outputs": [],
   "source": [
    "DATA = Path(\"dataset\").resolve()\n",
    "TEST_DF = Path(\"scratch_work_files\").resolve()"
   ]
  },
  {
   "cell_type": "code",
   "execution_count": 4,
   "id": "533d0573",
   "metadata": {},
   "outputs": [],
   "source": [
    "# # Load only the first 10,000 reviews for testing\n",
    "# reviews = []\n",
    "# businesses = []\n",
    "# with open(DATA / \"yelp_academic_dataset_review.json\", \"r\") as f1:\n",
    "#     for i, line in enumerate(f1):\n",
    "#         if i >= 250000:\n",
    "#             break\n",
    "#         reviews.append(json.loads(line))\n",
    "\n",
    "# with open(DATA / \"yelp_academic_dataset_business.json\",\"r\") as f2:\n",
    "#     for i, line in enumerate(f2):\n",
    "#         if i >= 250000:\n",
    "#             break\n",
    "#         businesses.append(json.loads(line))\n",
    "\n",
    "# reviews_df = pd.merge(\n",
    "#   pd.DataFrame(reviews),\n",
    "#   pd.DataFrame(businesses),\n",
    "#   how = \"inner\",\n",
    "#   on = \"business_id\",\n",
    "#   suffixes = [\"_review\",\"_restaurant\"]\n",
    "#   ).dropna()\n",
    "\n",
    "# joblib.dump(reviews_df,TEST_DF / \"review_testing_data.pkl\")\n"
   ]
  },
  {
   "cell_type": "code",
   "execution_count": 5,
   "id": "796ab423",
   "metadata": {},
   "outputs": [],
   "source": [
    "reviews_df_complete = joblib.load(TEST_DF / \"review_testing_data.pkl\")"
   ]
  },
  {
   "cell_type": "code",
   "execution_count": 6,
   "id": "3f7115c5",
   "metadata": {},
   "outputs": [],
   "source": [
    "reviews_df_complete = pd.merge(\n",
    "    reviews_df_complete,\n",
    "    reviews_df_complete.groupby(\"business_id\")[\"stars_review\"].mean().rename(\"avg_stars\"),\n",
    "    how = \"inner\",\n",
    "    on = \"business_id\"\n",
    ")"
   ]
  },
  {
   "cell_type": "code",
   "execution_count": 7,
   "id": "c6ea507a",
   "metadata": {},
   "outputs": [],
   "source": [
    "cond1 = reviews_df_complete[\"categories\"].str.lower().str.contains(\"restaurants\")\n",
    "cond2 = reviews_df_complete[\"categories\"].str.lower().str.contains(\"hotels\")\n",
    "cond3 = reviews_df_complete[\"avg_stars\"] < 4\n",
    "reviews_df_complete = reviews_df_complete[\n",
    "    (cond1) \n",
    "    & (~cond2)\n",
    "#    & (cond3)\n",
    "]"
   ]
  },
  {
   "cell_type": "code",
   "execution_count": 8,
   "id": "f141067e",
   "metadata": {},
   "outputs": [],
   "source": [
    "review_counts = reviews_df_complete.groupby(\"business_id\")[\"review_id\"].count()\n",
    "sample_id = review_counts[review_counts.between(100,200)].sample(1).index.tolist()"
   ]
  },
  {
   "cell_type": "code",
   "execution_count": 9,
   "id": "a0ef06a4",
   "metadata": {},
   "outputs": [],
   "source": [
    "reviews_df = reviews_df_complete.copy()[reviews_df_complete[\"business_id\"].isin(sample_id)]\n",
    "reviews_df = reviews_df[[\"name\",\"text\"]].sort_values(by = \"name\").reset_index(drop = True)"
   ]
  },
  {
   "cell_type": "code",
   "execution_count": 10,
   "id": "8240799a",
   "metadata": {},
   "outputs": [
    {
     "data": {
      "text/html": [
       "<div>\n",
       "<style scoped>\n",
       "    .dataframe tbody tr th:only-of-type {\n",
       "        vertical-align: middle;\n",
       "    }\n",
       "\n",
       "    .dataframe tbody tr th {\n",
       "        vertical-align: top;\n",
       "    }\n",
       "\n",
       "    .dataframe thead th {\n",
       "        text-align: right;\n",
       "    }\n",
       "</style>\n",
       "<table border=\"1\" class=\"dataframe\">\n",
       "  <thead>\n",
       "    <tr style=\"text-align: right;\">\n",
       "      <th></th>\n",
       "      <th>name</th>\n",
       "      <th>text</th>\n",
       "    </tr>\n",
       "  </thead>\n",
       "  <tbody>\n",
       "    <tr>\n",
       "      <th>0</th>\n",
       "      <td>4 Rivers Smokehouse</td>\n",
       "      <td>The food here is tasty - love the brisket and ...</td>\n",
       "    </tr>\n",
       "    <tr>\n",
       "      <th>1</th>\n",
       "      <td>4 Rivers Smokehouse</td>\n",
       "      <td>Food was good. I ordered a pound of meat and t...</td>\n",
       "    </tr>\n",
       "    <tr>\n",
       "      <th>2</th>\n",
       "      <td>4 Rivers Smokehouse</td>\n",
       "      <td>I love 4r. How can you go wrong here!!?? The m...</td>\n",
       "    </tr>\n",
       "    <tr>\n",
       "      <th>3</th>\n",
       "      <td>4 Rivers Smokehouse</td>\n",
       "      <td>I have been anticipating this 4Rivers Smokehou...</td>\n",
       "    </tr>\n",
       "    <tr>\n",
       "      <th>4</th>\n",
       "      <td>4 Rivers Smokehouse</td>\n",
       "      <td>Amazing! \\n\\nParking is an issue, but we went ...</td>\n",
       "    </tr>\n",
       "    <tr>\n",
       "      <th>...</th>\n",
       "      <td>...</td>\n",
       "      <td>...</td>\n",
       "    </tr>\n",
       "    <tr>\n",
       "      <th>116</th>\n",
       "      <td>4 Rivers Smokehouse</td>\n",
       "      <td>Giving 3 stars, I have been there 3 times, 1st...</td>\n",
       "    </tr>\n",
       "    <tr>\n",
       "      <th>117</th>\n",
       "      <td>4 Rivers Smokehouse</td>\n",
       "      <td>Great ribs. Really great pulled pork. Love the...</td>\n",
       "    </tr>\n",
       "    <tr>\n",
       "      <th>118</th>\n",
       "      <td>4 Rivers Smokehouse</td>\n",
       "      <td>Made the drive here and attempted to go to lun...</td>\n",
       "    </tr>\n",
       "    <tr>\n",
       "      <th>119</th>\n",
       "      <td>4 Rivers Smokehouse</td>\n",
       "      <td>by far the best bbq in tampa bay</td>\n",
       "    </tr>\n",
       "    <tr>\n",
       "      <th>120</th>\n",
       "      <td>4 Rivers Smokehouse</td>\n",
       "      <td>Great food, big selection of sides, friendly p...</td>\n",
       "    </tr>\n",
       "  </tbody>\n",
       "</table>\n",
       "<p>121 rows × 2 columns</p>\n",
       "</div>"
      ],
      "text/plain": [
       "                    name                                               text\n",
       "0    4 Rivers Smokehouse  The food here is tasty - love the brisket and ...\n",
       "1    4 Rivers Smokehouse  Food was good. I ordered a pound of meat and t...\n",
       "2    4 Rivers Smokehouse  I love 4r. How can you go wrong here!!?? The m...\n",
       "3    4 Rivers Smokehouse  I have been anticipating this 4Rivers Smokehou...\n",
       "4    4 Rivers Smokehouse  Amazing! \\n\\nParking is an issue, but we went ...\n",
       "..                   ...                                                ...\n",
       "116  4 Rivers Smokehouse  Giving 3 stars, I have been there 3 times, 1st...\n",
       "117  4 Rivers Smokehouse  Great ribs. Really great pulled pork. Love the...\n",
       "118  4 Rivers Smokehouse  Made the drive here and attempted to go to lun...\n",
       "119  4 Rivers Smokehouse                   by far the best bbq in tampa bay\n",
       "120  4 Rivers Smokehouse  Great food, big selection of sides, friendly p...\n",
       "\n",
       "[121 rows x 2 columns]"
      ]
     },
     "execution_count": 10,
     "metadata": {},
     "output_type": "execute_result"
    }
   ],
   "source": [
    "reviews_df"
   ]
  },
  {
   "cell_type": "markdown",
   "id": "906bbeb3",
   "metadata": {},
   "source": [
    "### Function Builds"
   ]
  },
  {
   "cell_type": "code",
   "execution_count": 11,
   "id": "2aaf8684",
   "metadata": {},
   "outputs": [],
   "source": [
    "def CleanReviewText(text):\n",
    "    \"\"\"\n",
    "    Removes & and nonstandard ascii characters to make the LLM's interpretation job easier\n",
    "    \"\"\"\n",
    "\n",
    "    if not isinstance(text, str):\n",
    "        return \"\"\n",
    "\n",
    "    # Normalize Unicode (e.g., é → e)\n",
    "    text = unicodedata.normalize(\"NFKD\", text).encode(\"ascii\", \"ignore\").decode(\"utf-8\")\n",
    "\n",
    "    # Replace ampersands with \"and\" when used as a connector\n",
    "    text = re.sub(r'\\s*&\\s*', ' and ', text)\n",
    "\n",
    "    # Replace all forms of whitespace (tabs, newlines, multiple spaces) with a single space\n",
    "    text = re.sub(r'\\s+', ' ', text)\n",
    "\n",
    "    # Trim leading/trailing whitespace\n",
    "    return text.strip()\n",
    "\n",
    "\n",
    "reviews_df[\"text\"] = reviews_df[\"text\"].apply(CleanReviewText)"
   ]
  },
  {
   "cell_type": "code",
   "execution_count": 12,
   "id": "943a4ee6",
   "metadata": {},
   "outputs": [],
   "source": [
    "def FormatClassList(values, max_items=None):\n",
    "    \"\"\"\n",
    "    Transform the list of classes into different phrasings in natural English.\n",
    "    Useful for dynamically passing possible classes to the prompt.\n",
    "    \"\"\"\n",
    "    if max_items:\n",
    "        values = values[:max_items]\n",
    "    \n",
    "    if not values:\n",
    "        return \"\"\n",
    "    elif len(values) == 1:\n",
    "        return values[0]\n",
    "    elif len(values) == 2:\n",
    "        return f\"{values[0]} and {values[1]}\"\n",
    "    else:\n",
    "        return \", \".join(values[:-1]) + f\", and {values[-1]}\""
   ]
  },
  {
   "cell_type": "code",
   "execution_count": 13,
   "id": "76ff7dc3",
   "metadata": {},
   "outputs": [],
   "source": [
    "def BuildPrompt(business_name,classes,reprocess = False):\n",
    "    \"\"\"\n",
    "    Build the prompt that will be passed to the LLM.\n",
    "    Using a function allows the prompt to be printed and previewed.\n",
    "    \"\"\"\n",
    "\n",
    "    prompt = f\"\"\"\n",
    "    You are a restaurant review classifier that is reviewing {business_name}.\n",
    "    Given a review of {business_name}, classify the reviewer's attitude toward three key aspects: food and drinks (including prices), service, and ambiance.\n",
    "    Return a JSON-style matrix in this form: {{\"food\": \"[class]\", \"service\": \"[class]\", \"ambiance\": \"[class]\"}}.\n",
    "    For [class], return one of {infl.number_to_words(len(valid_classes))} possible values: {FormatClassList(classes)}.\n",
    "    {FormatClassList(classes[:-1])} are classifications of the reviewer's feelings toward their experience.\n",
    "    Return \"{FormatClassList(classes[-1:])}\" if the reviewer does not address a certain aspect of the experience.\n",
    "    Here is an example review: \"The appetizers at this place were phenomenal, but the margaritas were overpriced and watery. Service was HORRENDOUS.\"\n",
    "    In this example, return: {{\"food\": \"{classes[1]}\", \"service\": \"{classes[2]}\", \"ambiance\": \"{classes[3]}\"}}.\n",
    "    Here is another example: \"Our server was outstanding and the entrees were perfectly cooked. We loved the decor, too!\"\n",
    "    In this example, return: {{\"food\": \"{classes[0]}\", \"service\": \"{classes[0]}\", \"ambiance\": \"{classes[0]}\"}}.\n",
    "    If the reviewer says multiple things about an aspect, bias toward the negative; that is, classify according to the more negative statements and choose \"{valid_classes[0]}\" only if the review is solely comprised of positive statements.\n",
    "    No other output is desired.\n",
    "    \"\"\"\n",
    "    if reprocess == True:\n",
    "        prompt += f\"\\nPlease focus on selecting a class from these values: {FormatClassList(classes)}. Other class choices, even if more descriptive, are not helpful in this instance.\"\n",
    "\n",
    "    return prompt"
   ]
  },
  {
   "cell_type": "code",
   "execution_count": 14,
   "id": "44e4c945",
   "metadata": {},
   "outputs": [],
   "source": [
    "def ClassifyReview(review_text, business_name, classes, model='mistral',reprocess = False):\n",
    "    \"\"\"\n",
    "    Build the prompt and pass to the LLM for evaluation.\n",
    "    \"\"\"\n",
    "\n",
    "    url = \"http://localhost:11434/api/chat\"\n",
    "    headers = {\"Content-Type\": \"application/json\"}\n",
    "      \n",
    "    data = {\n",
    "        \"model\": model,\n",
    "        \"messages\": [\n",
    "            {\n",
    "                \"role\": \"system\",\n",
    "                \"content\": BuildPrompt(business_name,classes,reprocess) \n",
    "            },\n",
    "            {\n",
    "                \"role\": \"user\",\n",
    "                \"content\": review_text\n",
    "            }\n",
    "        ],\n",
    "        \"stream\": False\n",
    "    }\n",
    "\n",
    "    response = requests.post(url, json=data, headers=headers)\n",
    "    return response.json()[\"message\"][\"content\"]\n"
   ]
  },
  {
   "cell_type": "code",
   "execution_count": 15,
   "id": "d5bc60d8",
   "metadata": {},
   "outputs": [],
   "source": [
    "def ParseReviewAnalyticsOutput(text):\n",
    "    \"\"\"\n",
    "    Parses potentially messy JSON-like LLM output by:\n",
    "    - Truncating after the first closing brace\n",
    "    - Quoting unquoted keys\n",
    "    - Quoting unquoted string values\n",
    "    - Falling back to regex if JSON parsing fails\n",
    "    Returns a dictionary with aspect classifications.\n",
    "    \"\"\"\n",
    "    # Step 0: Truncate at first closing brace to avoid trailing commentary\n",
    "    text = text.strip()\n",
    "    closing_brace_index = text.find(\"}\")\n",
    "    if closing_brace_index != -1:\n",
    "        text = text[:closing_brace_index + 1]\n",
    "\n",
    "    # Step 1: Fix unquoted keys\n",
    "    text = re.sub(r'([{,]\\s*)(\\w+)(\\s*:)', r'\\1\"\\2\"\\3', text)\n",
    "\n",
    "    # Step 2: Fix unquoted string values (assume words are categorical, not numbers or booleans)\n",
    "    text = re.sub(r':\\s*([a-zA-Z_]+)(\\s*[,}])', r': \"\\1\"\\2', text)\n",
    "\n",
    "    # Try JSON parsing\n",
    "    try:\n",
    "        parsed = json.loads(text)\n",
    "        return {\n",
    "            \"food\": parsed.get(\"food\", \"none\").lower(),\n",
    "            \"service\": parsed.get(\"service\", \"none\").lower(),\n",
    "            \"ambiance\": parsed.get(\"ambiance\", \"none\").lower()\n",
    "        }\n",
    "    except Exception:\n",
    "        pass  # fallback to regex next\n",
    "\n",
    "    # Fallback regex-based parsing\n",
    "    result = {\"food\": \"none\", \"service\": \"none\", \"ambiance\": \"none\"}\n",
    "    for aspect in [\"food\", \"service\", \"ambiance\"]:\n",
    "        match = re.search(rf'{aspect}\\s*[:=]\\s*[\"\\']?(\\w+)[\"\\']?', text, re.IGNORECASE)\n",
    "        if match:\n",
    "            result[aspect] = match.group(1).lower()\n",
    "\n",
    "    return result\n"
   ]
  },
  {
   "cell_type": "code",
   "execution_count": 16,
   "id": "090a3854",
   "metadata": {},
   "outputs": [],
   "source": [
    "def GenerateReprocessData(df,classes):\n",
    "    invalid_food = ~df[\"food\"].isin(classes)\n",
    "    invalid_service = ~df[\"service\"].isin(classes)\n",
    "    invalid_ambiance = ~df[\"ambiance\"].isin(classes)\n",
    "\n",
    "    to_reprocess = df[invalid_food | invalid_service | invalid_ambiance]\n",
    "    df = df.drop(labels = to_reprocess.index)\n",
    "    to_reprocess = to_reprocess.reset_index(drop=True)\n",
    "    return df,to_reprocess"
   ]
  },
  {
   "cell_type": "markdown",
   "id": "061d1dc0",
   "metadata": {},
   "source": [
    "### Review Evaluation Config"
   ]
  },
  {
   "cell_type": "code",
   "execution_count": 17,
   "id": "91f85635",
   "metadata": {},
   "outputs": [
    {
     "name": "stdout",
     "output_type": "stream",
     "text": [
      "\n",
      "    You are a restaurant review classifier that is reviewing {restaurant name}.\n",
      "    Given a review of {restaurant name}, classify the reviewer's attitude toward three key aspects: food and drinks (including prices), service, and ambiance.\n",
      "    Return a JSON-style matrix in this form: {\"food\": \"[class]\", \"service\": \"[class]\", \"ambiance\": \"[class]\"}.\n",
      "    For [class], return one of four possible values: positive, disappointed, angry, and none.\n",
      "    positive, disappointed, and angry are classifications of the reviewer's feelings toward their experience.\n",
      "    Return \"none\" if the reviewer does not address a certain aspect of the experience.\n",
      "    Here is an example review: \"The appetizers at this place were phenomenal, but the margaritas were overpriced and watery. Service was HORRENDOUS.\"\n",
      "    In this example, return: {\"food\": \"disappointed\", \"service\": \"angry\", \"ambiance\": \"none\"}.\n",
      "    Here is another example: \"Our server was outstanding and the entrees were perfectly cooked. We loved the decor, too!\"\n",
      "    In this example, return: {\"food\": \"positive\", \"service\": \"positive\", \"ambiance\": \"positive\"}.\n",
      "    If the reviewer says multiple things about an aspect, bias toward the negative; that is, classify according to the more negative statements and choose \"positive\" only if the review is solely comprised of positive statements.\n",
      "    No other output is desired.\n",
      "    \n",
      "Please focus on selecting a class from these values: positive, disappointed, angry, and none. Other class choices, even if more descriptive, are not helpful in this instance.\n"
     ]
    }
   ],
   "source": [
    "valid_classes = [\"positive\",\"disappointed\",\"angry\",\"none\"]\n",
    "print(BuildPrompt(business_name=\"{restaurant name}\",classes=valid_classes,reprocess=True))"
   ]
  },
  {
   "cell_type": "markdown",
   "id": "f7b4c9c1",
   "metadata": {},
   "source": [
    "### Process Analytics"
   ]
  },
  {
   "cell_type": "code",
   "execution_count": 18,
   "id": "02bd3af1",
   "metadata": {},
   "outputs": [
    {
     "name": "stdout",
     "output_type": "stream",
     "text": [
      "CPU times: user 397 ms, sys: 96.6 ms, total: 494 ms\n",
      "Wall time: 2min 58s\n"
     ]
    }
   ],
   "source": [
    "%%time\n",
    "\n",
    "result_list = []\n",
    "for review in reviews_df.itertuples():\n",
    "    result = ClassifyReview(review.text,business_name=review.name,classes=valid_classes,reprocess = False)\n",
    "    result_list.append(result)"
   ]
  },
  {
   "cell_type": "code",
   "execution_count": 20,
   "id": "6e6b73d1",
   "metadata": {},
   "outputs": [],
   "source": [
    "result_df = pd.concat([reviews_df[[\"name\",\"text\"]],(pd.DataFrame(pd.Series(result_list).apply(ParseReviewAnalyticsOutput).tolist()))],axis = 1)"
   ]
  },
  {
   "cell_type": "code",
   "execution_count": 21,
   "id": "b3c34390",
   "metadata": {},
   "outputs": [],
   "source": [
    "# result_df[\"check_col\"] = (\n",
    "# result_df[\"food\"].str.strip().str.lower()\n",
    "# + result_df[\"service\"].str.strip().str.lower()\n",
    "# + result_df[\"ambiance\"].str.strip().str.lower()\n",
    "# )\n",
    "\n",
    "# result_df[result_df[\"check_col\"] == \"nonenonenone\"]"
   ]
  },
  {
   "cell_type": "markdown",
   "id": "476e04b0",
   "metadata": {},
   "source": [
    "### Reprocess Analytics for Noncompliant Rows"
   ]
  },
  {
   "cell_type": "code",
   "execution_count": 22,
   "id": "49fb9f43",
   "metadata": {},
   "outputs": [],
   "source": [
    "# from random import randint\n",
    "# counter = 0\n",
    "# while counter < 5:\n",
    "#     result_df.loc[randint(0,99),[\"food\"]] = \"N/A\"\n",
    "#     result_df.loc[randint(0,99),[\"ambiance\"]] = \"N/A\"\n",
    "#     result_df.loc[randint(0,99),[\"service\"]] = \"N/A\"\n",
    "#     counter +=1\n"
   ]
  },
  {
   "cell_type": "code",
   "execution_count": 23,
   "id": "996caf94",
   "metadata": {},
   "outputs": [],
   "source": [
    "result_df,to_reprocess = GenerateReprocessData(result_df,valid_classes)"
   ]
  },
  {
   "cell_type": "code",
   "execution_count": 24,
   "id": "1d7d2fa3",
   "metadata": {},
   "outputs": [
    {
     "data": {
      "text/html": [
       "<div>\n",
       "<style scoped>\n",
       "    .dataframe tbody tr th:only-of-type {\n",
       "        vertical-align: middle;\n",
       "    }\n",
       "\n",
       "    .dataframe tbody tr th {\n",
       "        vertical-align: top;\n",
       "    }\n",
       "\n",
       "    .dataframe thead th {\n",
       "        text-align: right;\n",
       "    }\n",
       "</style>\n",
       "<table border=\"1\" class=\"dataframe\">\n",
       "  <thead>\n",
       "    <tr style=\"text-align: right;\">\n",
       "      <th></th>\n",
       "      <th>name</th>\n",
       "      <th>text</th>\n",
       "      <th>food</th>\n",
       "      <th>service</th>\n",
       "      <th>ambiance</th>\n",
       "    </tr>\n",
       "  </thead>\n",
       "  <tbody>\n",
       "    <tr>\n",
       "      <th>0</th>\n",
       "      <td>4 Rivers Smokehouse</td>\n",
       "      <td>I'm very excited that 4 Rivers came to South T...</td>\n",
       "      <td>positive</td>\n",
       "      <td>none</td>\n",
       "      <td>neutral</td>\n",
       "    </tr>\n",
       "    <tr>\n",
       "      <th>1</th>\n",
       "      <td>4 Rivers Smokehouse</td>\n",
       "      <td>For anyone who knows or really loves 'Q, this ...</td>\n",
       "      <td>disappointed</td>\n",
       "      <td>none</td>\n",
       "      <td>neutral</td>\n",
       "    </tr>\n",
       "  </tbody>\n",
       "</table>\n",
       "</div>"
      ],
      "text/plain": [
       "                  name                                               text  \\\n",
       "0  4 Rivers Smokehouse  I'm very excited that 4 Rivers came to South T...   \n",
       "1  4 Rivers Smokehouse  For anyone who knows or really loves 'Q, this ...   \n",
       "\n",
       "           food service ambiance  \n",
       "0      positive    none  neutral  \n",
       "1  disappointed    none  neutral  "
      ]
     },
     "execution_count": 24,
     "metadata": {},
     "output_type": "execute_result"
    }
   ],
   "source": [
    "to_reprocess"
   ]
  },
  {
   "cell_type": "code",
   "execution_count": 25,
   "id": "425cc1e3",
   "metadata": {},
   "outputs": [
    {
     "name": "stdout",
     "output_type": "stream",
     "text": [
      "CPU times: user 6.14 ms, sys: 1.79 ms, total: 7.93 ms\n",
      "Wall time: 4.03 s\n"
     ]
    }
   ],
   "source": [
    "%%time\n",
    "\n",
    "repr_result_list = []\n",
    "for review_repr in to_reprocess.itertuples():\n",
    "    repr_result = ClassifyReview(review_repr.text,business_name=review_repr.name,classes=valid_classes,reprocess = True)\n",
    "    repr_result_list.append(repr_result)"
   ]
  },
  {
   "cell_type": "code",
   "execution_count": 26,
   "id": "665ce7d8",
   "metadata": {},
   "outputs": [],
   "source": [
    "reprocessed = pd.concat([to_reprocess[[\"name\",\"text\"]],(pd.DataFrame(pd.Series(repr_result_list).apply(ParseReviewAnalyticsOutput).tolist()))],axis = 1)"
   ]
  },
  {
   "cell_type": "markdown",
   "id": "f62638e4",
   "metadata": {},
   "source": [
    "### Final Reprocess Cycle: Replace Noncompliant Rows With 'none'"
   ]
  },
  {
   "cell_type": "code",
   "execution_count": 27,
   "id": "a9de6d23",
   "metadata": {},
   "outputs": [
    {
     "data": {
      "text/html": [
       "<div>\n",
       "<style scoped>\n",
       "    .dataframe tbody tr th:only-of-type {\n",
       "        vertical-align: middle;\n",
       "    }\n",
       "\n",
       "    .dataframe tbody tr th {\n",
       "        vertical-align: top;\n",
       "    }\n",
       "\n",
       "    .dataframe thead th {\n",
       "        text-align: right;\n",
       "    }\n",
       "</style>\n",
       "<table border=\"1\" class=\"dataframe\">\n",
       "  <thead>\n",
       "    <tr style=\"text-align: right;\">\n",
       "      <th></th>\n",
       "      <th>name</th>\n",
       "      <th>text</th>\n",
       "      <th>food</th>\n",
       "      <th>service</th>\n",
       "      <th>ambiance</th>\n",
       "    </tr>\n",
       "  </thead>\n",
       "  <tbody>\n",
       "    <tr>\n",
       "      <th>0</th>\n",
       "      <td>4 Rivers Smokehouse</td>\n",
       "      <td>I'm very excited that 4 Rivers came to South T...</td>\n",
       "      <td>positive</td>\n",
       "      <td>none</td>\n",
       "      <td>neutral</td>\n",
       "    </tr>\n",
       "    <tr>\n",
       "      <th>1</th>\n",
       "      <td>4 Rivers Smokehouse</td>\n",
       "      <td>For anyone who knows or really loves 'Q, this ...</td>\n",
       "      <td>disappointed</td>\n",
       "      <td>none</td>\n",
       "      <td>positive</td>\n",
       "    </tr>\n",
       "  </tbody>\n",
       "</table>\n",
       "</div>"
      ],
      "text/plain": [
       "                  name                                               text  \\\n",
       "0  4 Rivers Smokehouse  I'm very excited that 4 Rivers came to South T...   \n",
       "1  4 Rivers Smokehouse  For anyone who knows or really loves 'Q, this ...   \n",
       "\n",
       "           food service  ambiance  \n",
       "0      positive    none   neutral  \n",
       "1  disappointed    none  positive  "
      ]
     },
     "execution_count": 27,
     "metadata": {},
     "output_type": "execute_result"
    }
   ],
   "source": [
    "reprocessed"
   ]
  },
  {
   "cell_type": "code",
   "execution_count": 28,
   "id": "52dd4728",
   "metadata": {},
   "outputs": [],
   "source": [
    "if reprocessed.shape[0] > 0:\n",
    "    reprocessed.loc[~reprocessed[\"food\"].isin(valid_classes),[\"food\"]] = \"none\"\n",
    "    reprocessed.loc[~reprocessed[\"service\"].isin(valid_classes),[\"service\"]] = \"none\"\n",
    "    reprocessed.loc[~reprocessed[\"ambiance\"].isin(valid_classes),[\"ambiance\"]] = \"none\"\n"
   ]
  },
  {
   "cell_type": "code",
   "execution_count": 29,
   "id": "c7548cd1",
   "metadata": {},
   "outputs": [],
   "source": [
    "result_df = pd.concat([result_df,reprocessed],axis = 0).reset_index(drop = True)"
   ]
  },
  {
   "cell_type": "code",
   "execution_count": 30,
   "id": "80d24663",
   "metadata": {},
   "outputs": [],
   "source": [
    "plot_df = pd.get_dummies(data = result_df, columns = [\"food\",\"service\",\"ambiance\"],dtype= \"int\").groupby(\"name\").sum()"
   ]
  },
  {
   "cell_type": "code",
   "execution_count": 31,
   "id": "f0600448",
   "metadata": {},
   "outputs": [],
   "source": [
    "food_cols = [col for col in plot_df.columns if col.startswith(\"food_\")]\n",
    "plot_df_food = plot_df[food_cols].transpose()"
   ]
  },
  {
   "cell_type": "code",
   "execution_count": 32,
   "id": "c054c016",
   "metadata": {},
   "outputs": [],
   "source": [
    "plot_df_food.index = [col.replace(\"food_\",\"\") for col in plot_df_food.index]"
   ]
  },
  {
   "cell_type": "code",
   "execution_count": 33,
   "id": "1ff2ef47",
   "metadata": {},
   "outputs": [
    {
     "data": {
      "text/html": [
       "<div>\n",
       "<style scoped>\n",
       "    .dataframe tbody tr th:only-of-type {\n",
       "        vertical-align: middle;\n",
       "    }\n",
       "\n",
       "    .dataframe tbody tr th {\n",
       "        vertical-align: top;\n",
       "    }\n",
       "\n",
       "    .dataframe thead th {\n",
       "        text-align: right;\n",
       "    }\n",
       "</style>\n",
       "<table border=\"1\" class=\"dataframe\">\n",
       "  <thead>\n",
       "    <tr style=\"text-align: right;\">\n",
       "      <th>name</th>\n",
       "      <th>4 Rivers Smokehouse</th>\n",
       "    </tr>\n",
       "  </thead>\n",
       "  <tbody>\n",
       "    <tr>\n",
       "      <th>angry</th>\n",
       "      <td>3</td>\n",
       "    </tr>\n",
       "    <tr>\n",
       "      <th>disappointed</th>\n",
       "      <td>29</td>\n",
       "    </tr>\n",
       "    <tr>\n",
       "      <th>none</th>\n",
       "      <td>5</td>\n",
       "    </tr>\n",
       "    <tr>\n",
       "      <th>positive</th>\n",
       "      <td>84</td>\n",
       "    </tr>\n",
       "  </tbody>\n",
       "</table>\n",
       "</div>"
      ],
      "text/plain": [
       "name          4 Rivers Smokehouse\n",
       "angry                           3\n",
       "disappointed                   29\n",
       "none                            5\n",
       "positive                       84"
      ]
     },
     "execution_count": 33,
     "metadata": {},
     "output_type": "execute_result"
    }
   ],
   "source": [
    "plot_df_food"
   ]
  },
  {
   "cell_type": "code",
   "execution_count": null,
   "id": "101e541d",
   "metadata": {},
   "outputs": [],
   "source": []
  }
 ],
 "metadata": {
  "kernelspec": {
   "display_name": ".venv",
   "language": "python",
   "name": "python3"
  },
  "language_info": {
   "codemirror_mode": {
    "name": "ipython",
    "version": 3
   },
   "file_extension": ".py",
   "mimetype": "text/x-python",
   "name": "python",
   "nbconvert_exporter": "python",
   "pygments_lexer": "ipython3",
   "version": "3.12.11"
  }
 },
 "nbformat": 4,
 "nbformat_minor": 5
}
