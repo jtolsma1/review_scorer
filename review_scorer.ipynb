{
 "cells": [
  {
   "cell_type": "code",
   "execution_count": 1,
   "id": "c4cb674e",
   "metadata": {},
   "outputs": [],
   "source": [
    "from pathlib import Path\n",
    "import pandas as pd\n",
    "import json\n",
    "import joblib\n",
    "import requests\n",
    "import matplotlib.pyplot as plt\n",
    "import re\n",
    "import unicodedata\n",
    "import inflect\n",
    "infl = inflect.engine()"
   ]
  },
  {
   "cell_type": "code",
   "execution_count": 2,
   "id": "9033f53a",
   "metadata": {},
   "outputs": [],
   "source": [
    "pd.set_option(\"display.max_columns\",None)"
   ]
  },
  {
   "cell_type": "markdown",
   "id": "ff51039e",
   "metadata": {},
   "source": [
    "### Raw Data Import and Dataset Build"
   ]
  },
  {
   "cell_type": "code",
   "execution_count": 3,
   "id": "ab60a7db",
   "metadata": {},
   "outputs": [],
   "source": [
    "DATA = Path(\"dataset\").resolve()\n",
    "TEST_DF = Path(\"scratch_work_files\").resolve()"
   ]
  },
  {
   "cell_type": "code",
   "execution_count": 4,
   "id": "533d0573",
   "metadata": {},
   "outputs": [],
   "source": [
    "# # Load only the first 10,000 reviews for testing\n",
    "# reviews = []\n",
    "# businesses = []\n",
    "# with open(DATA / \"yelp_academic_dataset_review.json\", \"r\") as f1:\n",
    "#     for i, line in enumerate(f1):\n",
    "#         if i >= 250000:\n",
    "#             break\n",
    "#         reviews.append(json.loads(line))\n",
    "\n",
    "# with open(DATA / \"yelp_academic_dataset_business.json\",\"r\") as f2:\n",
    "#     for i, line in enumerate(f2):\n",
    "#         if i >= 250000:\n",
    "#             break\n",
    "#         businesses.append(json.loads(line))\n",
    "\n",
    "# reviews_df = pd.merge(\n",
    "#   pd.DataFrame(reviews),\n",
    "#   pd.DataFrame(businesses),\n",
    "#   how = \"inner\",\n",
    "#   on = \"business_id\",\n",
    "#   suffixes = [\"_review\",\"_restaurant\"]\n",
    "#   ).dropna()\n",
    "\n",
    "# joblib.dump(reviews_df,TEST_DF / \"review_testing_data.pkl\")\n"
   ]
  },
  {
   "cell_type": "code",
   "execution_count": 5,
   "id": "796ab423",
   "metadata": {},
   "outputs": [],
   "source": [
    "reviews_df_complete = joblib.load(TEST_DF / \"review_testing_data.pkl\")"
   ]
  },
  {
   "cell_type": "code",
   "execution_count": 6,
   "id": "3f7115c5",
   "metadata": {},
   "outputs": [],
   "source": [
    "reviews_df_complete = pd.merge(\n",
    "    reviews_df_complete,\n",
    "    reviews_df_complete.groupby(\"business_id\")[\"stars_review\"].mean().rename(\"avg_stars\"),\n",
    "    how = \"inner\",\n",
    "    on = \"business_id\"\n",
    ")"
   ]
  },
  {
   "cell_type": "code",
   "execution_count": 7,
   "id": "c6ea507a",
   "metadata": {},
   "outputs": [],
   "source": [
    "cond1 = reviews_df_complete[\"categories\"].str.lower().str.contains(\"restaurants\")\n",
    "cond2 = reviews_df_complete[\"categories\"].str.lower().str.contains(\"hotels\")\n",
    "cond3 = reviews_df_complete[\"avg_stars\"] < 4\n",
    "reviews_df_complete = reviews_df_complete[\n",
    "    (cond1) \n",
    "    & (~cond2)\n",
    "#    & (cond3)\n",
    "]"
   ]
  },
  {
   "cell_type": "code",
   "execution_count": 8,
   "id": "f141067e",
   "metadata": {},
   "outputs": [],
   "source": [
    "review_counts = reviews_df_complete.groupby(\"business_id\")[\"review_id\"].count().rename(\"total_reviews\")\n",
    "sample_id = review_counts[review_counts.between(100,200)].sample(3).index.tolist()"
   ]
  },
  {
   "cell_type": "code",
   "execution_count": 9,
   "id": "a0ef06a4",
   "metadata": {},
   "outputs": [],
   "source": [
    "reviews_df = reviews_df_complete.copy()[reviews_df_complete[\"business_id\"].isin(sample_id)]\n",
    "reviews_df = reviews_df[[\"business_id\",\"name\",\"text\"]].sort_values(by = \"name\").reset_index(drop = True)"
   ]
  },
  {
   "cell_type": "code",
   "execution_count": 10,
   "id": "8240799a",
   "metadata": {},
   "outputs": [],
   "source": [
    "reviews_df = pd.merge(reviews_df,review_counts,how = \"inner\",on = \"business_id\").drop('business_id',axis = 1)"
   ]
  },
  {
   "cell_type": "markdown",
   "id": "906bbeb3",
   "metadata": {},
   "source": [
    "### Function Builds"
   ]
  },
  {
   "cell_type": "code",
   "execution_count": 11,
   "id": "2aaf8684",
   "metadata": {},
   "outputs": [],
   "source": [
    "def CleanReviewText(text):\n",
    "    \"\"\"\n",
    "    Removes & and nonstandard ascii characters to make the LLM's interpretation job easier\n",
    "    \"\"\"\n",
    "\n",
    "    if not isinstance(text, str):\n",
    "        return \"\"\n",
    "\n",
    "    # Normalize Unicode (e.g., é → e)\n",
    "    text = unicodedata.normalize(\"NFKD\", text).encode(\"ascii\", \"ignore\").decode(\"utf-8\")\n",
    "\n",
    "    # Replace ampersands with \"and\" when used as a connector\n",
    "    text = re.sub(r'\\s*&\\s*', ' and ', text)\n",
    "\n",
    "    # Replace all forms of whitespace (tabs, newlines, multiple spaces) with a single space\n",
    "    text = re.sub(r'\\s+', ' ', text)\n",
    "\n",
    "    # Trim leading/trailing whitespace\n",
    "    return text.strip()\n",
    "\n",
    "\n",
    "reviews_df[\"text\"] = reviews_df[\"text\"].apply(CleanReviewText)"
   ]
  },
  {
   "cell_type": "code",
   "execution_count": 12,
   "id": "943a4ee6",
   "metadata": {},
   "outputs": [],
   "source": [
    "def FormatClassList(values, max_items=None):\n",
    "    \"\"\"\n",
    "    Transform the list of classes into different phrasings in natural English.\n",
    "    Useful for dynamically passing possible classes to the prompt.\n",
    "    \"\"\"\n",
    "    if max_items:\n",
    "        values = values[:max_items]\n",
    "    \n",
    "    if not values:\n",
    "        return \"\"\n",
    "    elif len(values) == 1:\n",
    "        return values[0]\n",
    "    elif len(values) == 2:\n",
    "        return f\"{values[0]} and {values[1]}\"\n",
    "    else:\n",
    "        return \", \".join(values[:-1]) + f\", and {values[-1]}\""
   ]
  },
  {
   "cell_type": "code",
   "execution_count": 13,
   "id": "76ff7dc3",
   "metadata": {},
   "outputs": [],
   "source": [
    "def BuildPrompt(business_name,classes,reprocess = False):\n",
    "    \"\"\"\n",
    "    Build the prompt that will be passed to the LLM.\n",
    "    Using a function allows the prompt to be printed and previewed.\n",
    "    \"\"\"\n",
    "\n",
    "    prompt = f\"\"\"\n",
    "You are a restaurant review classifier that is reviewing {business_name}.\n",
    "Given a review of {business_name}, classify the reviewer's attitude toward three key aspects: food and drinks (including prices), service, and ambiance.\n",
    "Return a JSON-style matrix in this form: {{\"food\": \"[class]\", \"service\": \"[class]\", \"ambiance\": \"[class]\"}}.\n",
    "For [class], return one of {infl.number_to_words(len(valid_classes))} possible values: {FormatClassList(classes)}.\n",
    "{FormatClassList(classes[:-1])} are classifications of the reviewer's feelings toward their experience.\n",
    "Return \"{FormatClassList(classes[-1:])}\" if the reviewer does not address a certain aspect of the experience.\n",
    "Here is an example review: \"The appetizers at this place were phenomenal, but the margaritas were overpriced and watery. Service was HORRENDOUS.\"\n",
    "In this example, return: {{\"food\": \"{classes[1]}\", \"service\": \"{classes[2]}\", \"ambiance\": \"{classes[3]}\"}}.\n",
    "Here is another example: \"Our server was outstanding and the entrees were perfectly cooked. We loved the decor, too!\"\n",
    "In this example, return: {{\"food\": \"{classes[0]}\", \"service\": \"{classes[0]}\", \"ambiance\": \"{classes[0]}\"}}.\n",
    "No other output is desired.\n",
    "    \"\"\"\n",
    "    if reprocess == True:\n",
    "        prompt += f\"\"\"\n",
    "Please focus on selecting a class from these values: {FormatClassList(classes)}. \n",
    "Other class choices, even if more descriptive, are not helpful in this instance.\n",
    "If the reviewer has mixed opinions (a combination of positive, disappointed, and/or angry) about an aspect of their experience, bias toward the negative; \n",
    "that is, classify according to the more negative statements and choose \"{valid_classes[0]}\" only if the review is solely comprised of positive statements.\n",
    "        \"\"\"\n",
    "\n",
    "    return prompt"
   ]
  },
  {
   "cell_type": "code",
   "execution_count": 14,
   "id": "44e4c945",
   "metadata": {},
   "outputs": [],
   "source": [
    "def ClassifyReview(review_text, business_name, classes, model='mistral',reprocess = False):\n",
    "    \"\"\"\n",
    "    Build the prompt and pass to the LLM for evaluation.\n",
    "    \"\"\"\n",
    "\n",
    "    url = \"http://localhost:11434/api/chat\"\n",
    "    headers = {\"Content-Type\": \"application/json\"}\n",
    "      \n",
    "    data = {\n",
    "        \"model\": model,\n",
    "        \"messages\": [\n",
    "            {\n",
    "                \"role\": \"system\",\n",
    "                \"content\": BuildPrompt(business_name,classes,reprocess) \n",
    "            },\n",
    "            {\n",
    "                \"role\": \"user\",\n",
    "                \"content\": review_text\n",
    "            }\n",
    "        ],\n",
    "        \"stream\": False\n",
    "    }\n",
    "\n",
    "    response = requests.post(url, json=data, headers=headers)\n",
    "    return response.json()[\"message\"][\"content\"]\n"
   ]
  },
  {
   "cell_type": "code",
   "execution_count": 15,
   "id": "d5bc60d8",
   "metadata": {},
   "outputs": [],
   "source": [
    "def ParseReviewAnalyticsOutput(text):\n",
    "    \"\"\"\n",
    "    Parses potentially messy JSON-like LLM output by:\n",
    "    - Truncating after the first closing brace\n",
    "    - Quoting unquoted keys\n",
    "    - Quoting unquoted string values\n",
    "    - Removing parenthetical commentary from values\n",
    "    - Falling back to regex if JSON parsing fails\n",
    "    Returns a dictionary with aspect classifications.\n",
    "    \"\"\"\n",
    "    # Step 0: Truncate at first closing brace to avoid trailing commentary\n",
    "    text = text.strip()\n",
    "    closing_brace_index = text.find(\"}\")\n",
    "    if closing_brace_index != -1:\n",
    "        text = text[:closing_brace_index + 1]\n",
    "\n",
    "    # Step 0b: Remove parenthetical notes from values (e.g., \"none (but blah)\" -> \"none\")\n",
    "    text = re.sub(r'\"\\s*([^\"]*?)\\s*\\([^\"]*\\)\"', r'\"\\1\"', text)\n",
    "\n",
    "    # Step 1: Fix unquoted keys\n",
    "    text = re.sub(r'([{,]\\s*)(\\w+)(\\s*:)', r'\\1\"\\2\"\\3', text)\n",
    "\n",
    "    # Step 2: Fix unquoted string values (assume words are categorical, not numbers or booleans)\n",
    "    text = re.sub(r':\\s*([a-zA-Z_]+)(\\s*[,}])', r': \"\\1\"\\2', text)\n",
    "\n",
    "    # Try JSON parsing\n",
    "    try:\n",
    "        parsed = json.loads(text)\n",
    "        return {\n",
    "            \"food\": parsed.get(\"food\", \"none\").split()[0].lower(),\n",
    "            \"service\": parsed.get(\"service\", \"none\").split()[0].lower(),\n",
    "            \"ambiance\": parsed.get(\"ambiance\", \"none\").split()[0].lower()\n",
    "        }\n",
    "    except Exception:\n",
    "        pass  # fallback to regex next\n",
    "\n",
    "    # Fallback regex-based parsing\n",
    "    result = {\"food\": \"none\", \"service\": \"none\", \"ambiance\": \"none\"}\n",
    "    for aspect in [\"food\", \"service\", \"ambiance\"]:\n",
    "        match = re.search(rf'{aspect}\\s*[:=]\\s*[\"\\']?(\\w+)', text, re.IGNORECASE)\n",
    "        if match:\n",
    "            result[aspect] = match.group(1).lower()\n",
    "\n",
    "    return result\n"
   ]
  },
  {
   "cell_type": "code",
   "execution_count": 16,
   "id": "090a3854",
   "metadata": {},
   "outputs": [],
   "source": [
    "def GenerateReprocessData(df,classes):\n",
    "    invalid_food = ~df[\"food\"].isin(classes)\n",
    "    invalid_service = ~df[\"service\"].isin(classes)\n",
    "    invalid_ambiance = ~df[\"ambiance\"].isin(classes)\n",
    "\n",
    "    to_reprocess = df[invalid_food | invalid_service | invalid_ambiance]\n",
    "    df = df.drop(labels = to_reprocess.index)\n",
    "    to_reprocess = to_reprocess.reset_index(drop=True)\n",
    "    return df,to_reprocess"
   ]
  },
  {
   "cell_type": "markdown",
   "id": "061d1dc0",
   "metadata": {},
   "source": [
    "### Review Evaluation Config"
   ]
  },
  {
   "cell_type": "code",
   "execution_count": 17,
   "id": "91f85635",
   "metadata": {},
   "outputs": [
    {
     "name": "stdout",
     "output_type": "stream",
     "text": [
      "\n",
      "You are a restaurant review classifier that is reviewing {restaurant name}.\n",
      "Given a review of {restaurant name}, classify the reviewer's attitude toward three key aspects: food and drinks (including prices), service, and ambiance.\n",
      "Return a JSON-style matrix in this form: {\"food\": \"[class]\", \"service\": \"[class]\", \"ambiance\": \"[class]\"}.\n",
      "For [class], return one of four possible values: positive, disappointed, angry, and none.\n",
      "positive, disappointed, and angry are classifications of the reviewer's feelings toward their experience.\n",
      "Return \"none\" if the reviewer does not address a certain aspect of the experience.\n",
      "Here is an example review: \"The appetizers at this place were phenomenal, but the margaritas were overpriced and watery. Service was HORRENDOUS.\"\n",
      "In this example, return: {\"food\": \"disappointed\", \"service\": \"angry\", \"ambiance\": \"none\"}.\n",
      "Here is another example: \"Our server was outstanding and the entrees were perfectly cooked. We loved the decor, too!\"\n",
      "In this example, return: {\"food\": \"positive\", \"service\": \"positive\", \"ambiance\": \"positive\"}.\n",
      "No other output is desired.\n",
      "    \n",
      "Please focus on selecting a class from these values: positive, disappointed, angry, and none. \n",
      "Other class choices, even if more descriptive, are not helpful in this instance.\n",
      "If the reviewer has mixed opinions (a combination of positive, disappointed, and/or angry) about an aspect of their experience, bias toward the negative; \n",
      "that is, classify according to the more negative statements and choose \"positive\" only if the review is solely comprised of positive statements.\n",
      "        \n"
     ]
    }
   ],
   "source": [
    "valid_classes = [\"positive\",\"disappointed\",\"angry\",\"none\"]\n",
    "print(BuildPrompt(business_name=\"{restaurant name}\",classes=valid_classes,reprocess=True))"
   ]
  },
  {
   "cell_type": "markdown",
   "id": "f7b4c9c1",
   "metadata": {},
   "source": [
    "### Process Analytics"
   ]
  },
  {
   "cell_type": "code",
   "execution_count": 18,
   "id": "02bd3af1",
   "metadata": {},
   "outputs": [
    {
     "name": "stdout",
     "output_type": "stream",
     "text": [
      "CPU times: user 1.67 s, sys: 409 ms, total: 2.08 s\n",
      "Wall time: 12min 55s\n"
     ]
    }
   ],
   "source": [
    "%%time\n",
    "\n",
    "result_list = []\n",
    "for review in reviews_df.itertuples():\n",
    "    result = ClassifyReview(review.text,business_name=review.name,classes=valid_classes,reprocess = False)\n",
    "    result_list.append(result)"
   ]
  },
  {
   "cell_type": "code",
   "execution_count": 19,
   "id": "6e6b73d1",
   "metadata": {},
   "outputs": [],
   "source": [
    "result_df = pd.concat([reviews_df,(pd.DataFrame(pd.Series(result_list).apply(ParseReviewAnalyticsOutput).tolist()))],axis = 1)"
   ]
  },
  {
   "cell_type": "code",
   "execution_count": 20,
   "id": "b3c34390",
   "metadata": {},
   "outputs": [],
   "source": [
    "# result_df[\"check_col\"] = (\n",
    "# result_df[\"food\"].str.strip().str.lower()\n",
    "# + result_df[\"service\"].str.strip().str.lower()\n",
    "# + result_df[\"ambiance\"].str.strip().str.lower()\n",
    "# )\n",
    "\n",
    "# result_df[result_df[\"check_col\"] == \"nonenonenone\"]"
   ]
  },
  {
   "cell_type": "markdown",
   "id": "476e04b0",
   "metadata": {},
   "source": [
    "### Reprocess Analytics for Noncompliant Rows"
   ]
  },
  {
   "cell_type": "code",
   "execution_count": 21,
   "id": "49fb9f43",
   "metadata": {},
   "outputs": [],
   "source": [
    "# from random import randint\n",
    "# counter = 0\n",
    "# while counter < 5:\n",
    "#     result_df.loc[randint(0,99),[\"food\"]] = \"N/A\"\n",
    "#     result_df.loc[randint(0,99),[\"ambiance\"]] = \"N/A\"\n",
    "#     result_df.loc[randint(0,99),[\"service\"]] = \"N/A\"\n",
    "#     counter +=1\n"
   ]
  },
  {
   "cell_type": "code",
   "execution_count": 22,
   "id": "1385f02d",
   "metadata": {},
   "outputs": [],
   "source": [
    "# \"neutral\" is a common hallucination that the LLM has; this is best replaced with \"none\" to save reprocessing compute\n",
    "result_df = result_df.replace(to_replace=\"neutral\",value=\"none\")"
   ]
  },
  {
   "cell_type": "code",
   "execution_count": 23,
   "id": "996caf94",
   "metadata": {},
   "outputs": [],
   "source": [
    "result_df,to_reprocess = GenerateReprocessData(result_df,valid_classes)\n",
    "\n",
    "repr_stage1_invalid = to_reprocess[[\"food\",\"service\",\"ambiance\"]].size - to_reprocess[[\"food\",\"service\",\"ambiance\"]].isin(valid_classes).sum().sum()"
   ]
  },
  {
   "cell_type": "code",
   "execution_count": 24,
   "id": "425cc1e3",
   "metadata": {},
   "outputs": [
    {
     "name": "stdout",
     "output_type": "stream",
     "text": [
      "CPU times: user 6.8 ms, sys: 2.28 ms, total: 9.08 ms\n",
      "Wall time: 4.12 s\n"
     ]
    }
   ],
   "source": [
    "%%time\n",
    "\n",
    "repr_result_list = []\n",
    "for review_repr in to_reprocess.itertuples():\n",
    "    repr_result = ClassifyReview(review_repr.text,business_name=review_repr.name,classes=valid_classes,reprocess = True)\n",
    "    repr_result_list.append(repr_result)"
   ]
  },
  {
   "cell_type": "code",
   "execution_count": 25,
   "id": "665ce7d8",
   "metadata": {},
   "outputs": [],
   "source": [
    "to_reprocess_again = pd.concat([to_reprocess[[\"name\",\"text\",\"total_reviews\"]],(pd.DataFrame(pd.Series(repr_result_list).apply(ParseReviewAnalyticsOutput).tolist()))],axis = 1)\n",
    "\n",
    "repr_stage2_invalid = to_reprocess_again[[\"food\",\"service\",\"ambiance\"]].size - to_reprocess_again[[\"food\",\"service\",\"ambiance\"]].isin(valid_classes).sum().sum()"
   ]
  },
  {
   "cell_type": "markdown",
   "id": "f62638e4",
   "metadata": {},
   "source": [
    "### Final Reprocess Cycle: Replace Noncompliant Rows With 'none'"
   ]
  },
  {
   "cell_type": "code",
   "execution_count": 26,
   "id": "52dd4728",
   "metadata": {},
   "outputs": [],
   "source": [
    "reprocessed = to_reprocess_again.copy()\n",
    "if reprocessed.shape[0] > 0:\n",
    "    reprocessed.loc[~reprocessed[\"food\"].isin(valid_classes),[\"food\"]] = \"none\"\n",
    "    reprocessed.loc[~reprocessed[\"service\"].isin(valid_classes),[\"service\"]] = \"none\"\n",
    "    reprocessed.loc[~reprocessed[\"ambiance\"].isin(valid_classes),[\"ambiance\"]] = \"none\"\n"
   ]
  },
  {
   "cell_type": "code",
   "execution_count": 27,
   "id": "c7548cd1",
   "metadata": {},
   "outputs": [],
   "source": [
    "result_df = pd.concat([result_df,reprocessed],axis = 0).reset_index(drop = True)"
   ]
  },
  {
   "cell_type": "markdown",
   "id": "fa1b067a",
   "metadata": {},
   "source": [
    "### Load Result DF Here"
   ]
  },
  {
   "cell_type": "code",
   "execution_count": 28,
   "id": "1d8b3da6",
   "metadata": {},
   "outputs": [],
   "source": [
    "# import joblib\n",
    "# import pandas as pd\n",
    "# import matplotlib.pyplot as plt\n",
    "\n",
    "# # joblib.dump(result_df,\"scratch_work_files/results_sample.pkl\")\n",
    "# # joblib.dump(to_reprocess,\"scratch_work_files/pre_reprocess_dataframe.pkl\")\n",
    "# # joblib.dump(reprocessed,\"scratch_work_files/post_reprocess_dataframe.pkl\")\n",
    "\n",
    "# result_df = joblib.load(\"scratch_work_files/results_sample.pkl\")\n",
    "# to_reprocess = joblib.load(\"scratch_work_files/pre_reprocess_dataframe.pkl\")\n",
    "# reprocessed = joblib.load(\"scratch_work_files/post_reprocess_dataframe.pkl\")"
   ]
  },
  {
   "cell_type": "markdown",
   "id": "f3cc84dc",
   "metadata": {},
   "source": [
    "### Plot Analysis Results"
   ]
  },
  {
   "cell_type": "code",
   "execution_count": 29,
   "id": "67d7b396",
   "metadata": {},
   "outputs": [
    {
     "data": {
      "image/png": "[encoded data removed]",
      "text/plain": [
       "<Figure size 1800x650 with 3 Axes>"
      ]
     },
     "metadata": {},
     "output_type": "display_data"
    }
   ],
   "source": [
    "# 1. Melt into long format\n",
    "melted = result_df.melt(\n",
    "    id_vars=\"name\",\n",
    "    value_vars=[\"food\", \"service\", \"ambiance\"],\n",
    "    var_name=\"aspect\",\n",
    "    value_name=\"emotion\"\n",
    ")\n",
    "\n",
    "# 2. Count occurrences\n",
    "counts = (\n",
    "    melted.groupby([\"name\", \"aspect\", \"emotion\"])\n",
    "    .size()\n",
    "    .reset_index(name=\"count\")\n",
    ")\n",
    "\n",
    "# 3. Pivot for stacked bars\n",
    "pivoted = counts.pivot_table(\n",
    "    index=[\"name\", \"aspect\"],\n",
    "    columns=\"emotion\",\n",
    "    values=\"count\",\n",
    "    fill_value=0\n",
    ")\n",
    "\n",
    "# Ensure consistent emotion order\n",
    "emotion_order = [\"positive\", \"disappointed\", \"angry\", \"none\"]\n",
    "pivoted = pivoted.reindex(columns=emotion_order, fill_value=0)\n",
    "\n",
    "# 4. Add row totals for percentage & total labels\n",
    "pivoted[\"total\"] = pivoted.sum(axis=1)\n",
    "\n",
    "# 5. Create subplots\n",
    "restaurants = pivoted.index.get_level_values(0).unique()\n",
    "n_restaurants = len(restaurants)\n",
    "\n",
    "fig, axes = plt.subplots(1, n_restaurants, figsize=(6 * n_restaurants, 6.5), sharey=True)\n",
    "\n",
    "if n_restaurants == 1:\n",
    "    axes = [axes]\n",
    "\n",
    "for ax, restaurant in zip(axes, restaurants):\n",
    "    group = pivoted.loc[restaurant]\n",
    "    group_no_total = group.drop(columns=\"total\")\n",
    "    group_no_total.index = pd.Categorical(group_no_total.index,categories=[\"food\",\"service\",\"ambiance\"],ordered=True)\n",
    "    group_no_total = group_no_total.sort_index()\n",
    "\n",
    "    # Plot stacked bars\n",
    "    group_no_total.plot(\n",
    "        kind=\"bar\",\n",
    "        stacked=True,\n",
    "        ax=ax,\n",
    "        colormap=\"Set2\",\n",
    "        legend=(ax == axes[0])\n",
    "    )\n",
    "    ax.set_title(restaurant,fontsize = 13)\n",
    "    ax.set_ylabel(\"Review Count\",fontsize = 12)\n",
    "    # ax.set_xlabel(\"Aspect\",fontsize = 12)\n",
    "    ax.tick_params(axis=\"x\", rotation=0,labelsize = 12)\n",
    "\n",
    "\n",
    "        # annotate percentages\n",
    "    for container in ax.containers:\n",
    "        for rect in container:\n",
    "            height = rect.get_height()\n",
    "            if height > 0:\n",
    "                total_height = group[\"total\"].values[0]\n",
    "                percentage = 100 * height / total_height\n",
    "                ax.annotate(f\"{percentage:.0f}%\",\n",
    "                            xy=(rect.get_x() + rect.get_width() / 2,\n",
    "                                rect.get_y() + height / 2),\n",
    "                            ha=\"center\", va=\"center\", fontsize=10, color=\"black\")\n",
    "\n",
    "    # Add total count labels above bars\n",
    "    for idx, (aspect, row) in enumerate(group.iterrows()):\n",
    "        total = row[\"total\"]\n",
    "        ax.annotate(f\"Total: {total}\",\n",
    "                    xy=(idx, total),\n",
    "                    xytext=(0, 5),\n",
    "                    textcoords=\"offset points\",\n",
    "                    ha=\"center\", va=\"bottom\", fontsize=11, fontweight=\"bold\")\n",
    "\n",
    "# Legend\n",
    "handles, labels = axes[0].get_legend_handles_labels()\n",
    "fig.legend(handles, labels, title=\"Emotion\", loc=\"upper right\")\n",
    "\n",
    "\n",
    "plt.tight_layout()\n",
    "plt.subplots_adjust(top = 0.9)\n",
    "plt.suptitle(\"Restaurant Review Emotions\",fontsize = 15)\n",
    "plt.show()"
   ]
  },
  {
   "cell_type": "markdown",
   "id": "6842e373",
   "metadata": {},
   "source": [
    "### Generate Reprocessing Statistics (How Often the LLM Provides And INvalid Class)"
   ]
  },
  {
   "cell_type": "code",
   "execution_count": 35,
   "id": "f586fcf2",
   "metadata": {},
   "outputs": [
    {
     "name": "stdout",
     "output_type": "stream",
     "text": [
      "Initial Results Needing Reprocessing\n"
     ]
    },
    {
     "data": {
      "text/html": [
       "<div>\n",
       "<style scoped>\n",
       "    .dataframe tbody tr th:only-of-type {\n",
       "        vertical-align: middle;\n",
       "    }\n",
       "\n",
       "    .dataframe tbody tr th {\n",
       "        vertical-align: top;\n",
       "    }\n",
       "\n",
       "    .dataframe thead th {\n",
       "        text-align: right;\n",
       "    }\n",
       "</style>\n",
       "<table border=\"1\" class=\"dataframe\">\n",
       "  <thead>\n",
       "    <tr style=\"text-align: right;\">\n",
       "      <th></th>\n",
       "      <th>name</th>\n",
       "      <th>text</th>\n",
       "      <th>total_reviews</th>\n",
       "      <th>food</th>\n",
       "      <th>service</th>\n",
       "      <th>ambiance</th>\n",
       "    </tr>\n",
       "  </thead>\n",
       "  <tbody>\n",
       "    <tr>\n",
       "      <th>0</th>\n",
       "      <td>Fellini Cafe of Media</td>\n",
       "      <td>Casual italian fare in a happy environment. Th...</td>\n",
       "      <td>179</td>\n",
       "      <td>mixed</td>\n",
       "      <td>none</td>\n",
       "      <td>positive</td>\n",
       "    </tr>\n",
       "    <tr>\n",
       "      <th>1</th>\n",
       "      <td>Fellini Cafe of Media</td>\n",
       "      <td>Update: after going here a few more times I ha...</td>\n",
       "      <td>179</td>\n",
       "      <td>mixed</td>\n",
       "      <td>none</td>\n",
       "      <td>mixed</td>\n",
       "    </tr>\n",
       "  </tbody>\n",
       "</table>\n",
       "</div>"
      ],
      "text/plain": [
       "                    name                                               text  \\\n",
       "0  Fellini Cafe of Media  Casual italian fare in a happy environment. Th...   \n",
       "1  Fellini Cafe of Media  Update: after going here a few more times I ha...   \n",
       "\n",
       "   total_reviews   food service  ambiance  \n",
       "0            179  mixed    none  positive  \n",
       "1            179  mixed    none     mixed  "
      ]
     },
     "metadata": {},
     "output_type": "display_data"
    },
    {
     "name": "stdout",
     "output_type": "stream",
     "text": [
      "Reprocessed Results Needing a Second Reprocessing\n"
     ]
    },
    {
     "data": {
      "text/html": [
       "<div>\n",
       "<style scoped>\n",
       "    .dataframe tbody tr th:only-of-type {\n",
       "        vertical-align: middle;\n",
       "    }\n",
       "\n",
       "    .dataframe tbody tr th {\n",
       "        vertical-align: top;\n",
       "    }\n",
       "\n",
       "    .dataframe thead th {\n",
       "        text-align: right;\n",
       "    }\n",
       "</style>\n",
       "<table border=\"1\" class=\"dataframe\">\n",
       "  <thead>\n",
       "    <tr style=\"text-align: right;\">\n",
       "      <th></th>\n",
       "      <th>name</th>\n",
       "      <th>text</th>\n",
       "      <th>total_reviews</th>\n",
       "      <th>food</th>\n",
       "      <th>service</th>\n",
       "      <th>ambiance</th>\n",
       "    </tr>\n",
       "  </thead>\n",
       "  <tbody>\n",
       "    <tr>\n",
       "      <th>0</th>\n",
       "      <td>Fellini Cafe of Media</td>\n",
       "      <td>Casual italian fare in a happy environment. Th...</td>\n",
       "      <td>179</td>\n",
       "      <td>mixed</td>\n",
       "      <td>none</td>\n",
       "      <td>positive</td>\n",
       "    </tr>\n",
       "    <tr>\n",
       "      <th>1</th>\n",
       "      <td>Fellini Cafe of Media</td>\n",
       "      <td>Update: after going here a few more times I ha...</td>\n",
       "      <td>179</td>\n",
       "      <td>mixed</td>\n",
       "      <td>none</td>\n",
       "      <td>disappointed</td>\n",
       "    </tr>\n",
       "  </tbody>\n",
       "</table>\n",
       "</div>"
      ],
      "text/plain": [
       "                    name                                               text  \\\n",
       "0  Fellini Cafe of Media  Casual italian fare in a happy environment. Th...   \n",
       "1  Fellini Cafe of Media  Update: after going here a few more times I ha...   \n",
       "\n",
       "   total_reviews   food service      ambiance  \n",
       "0            179  mixed    none      positive  \n",
       "1            179  mixed    none  disappointed  "
      ]
     },
     "metadata": {},
     "output_type": "display_data"
    }
   ],
   "source": [
    "print(\"Initial Results Needing Reprocessing\")\n",
    "display(to_reprocess)\n",
    "print(\"Reprocessed Results Needing a Second Reprocessing\")\n",
    "display(to_reprocess_again)"
   ]
  },
  {
   "cell_type": "code",
   "execution_count": 33,
   "id": "a1942013",
   "metadata": {},
   "outputs": [],
   "source": [
    "repr_stats_df = pd.DataFrame({\n",
    "\"valid\":[result_df.size - repr_stage2_invalid,result_df.size - repr_stage1_invalid],\n",
    "\"invalid\":[repr_stage2_invalid,repr_stage1_invalid],\n",
    "},index =[\"after first reprocessing\",\"initial pass\"]\n",
    ")\n"
   ]
  },
  {
   "cell_type": "code",
   "execution_count": 34,
   "id": "1dda1cbc",
   "metadata": {},
   "outputs": [
    {
     "data": {
      "image/png": "[encoded data removed]",
      "text/plain": [
       "<Figure size 800x300 with 1 Axes>"
      ]
     },
     "metadata": {},
     "output_type": "display_data"
    }
   ],
   "source": [
    "fig,ax = plt.subplots(1,1,figsize = (8,3))\n",
    "\n",
    "color_map = {\"valid\":\"#BBFCBC\",\"invalid\":\"#FD8B8B\"}\n",
    "repr_stats_df.plot(\n",
    "    kind = \"barh\",\n",
    "    stacked = True,\n",
    "    ax = ax,\n",
    "    color = [color_map[col] for col in repr_stats_df.columns],\n",
    "    edgecolor = \"gray\",\n",
    "    linewidth = 0.5\n",
    ")\n",
    "                   \n",
    "ax.set_xlim([result_df.size*0.85,result_df.size*1.05])\n",
    "ax.set_title(\"Reprocessing Statistics\")\n",
    "\n",
    "# annotate percentages\n",
    "for container in ax.containers:\n",
    "    for rect in container:\n",
    "        width = rect.get_width()\n",
    "        if width > 0:\n",
    "            percentage = 100 * width / result_df.size\n",
    "            ax.annotate(f\"{percentage:.2f}% ({width:.0f})\",\n",
    "                        xy=(rect.get_x() + width*0.95,\n",
    "                            rect.get_y() + rect.get_height() / 2),\n",
    "                        ha=\"center\", va=\"center\", fontsize=10, color=\"black\")\n",
    "\n",
    "for idx,row in enumerate(repr_stats_df.itertuples()):\n",
    "    total = row.valid + row.invalid\n",
    "    ax.annotate(f\"Total: {total}\",\n",
    "                xy=(total,idx),\n",
    "                xytext=(70, -5),\n",
    "                textcoords=\"offset points\",\n",
    "                ha=\"center\", va=\"bottom\", fontsize=11, fontweight=\"bold\")\n",
    "    \n",
    "handles, labels = ax.get_legend_handles_labels()\n",
    "ax.legend(handles, labels, title =\"\", loc=\"upper left\")\n",
    "plt.tight_layout()"
   ]
  },
  {
   "cell_type": "code",
   "execution_count": null,
   "id": "7b3fa3f3",
   "metadata": {},
   "outputs": [],
   "source": []
  }
 ],
 "metadata": {
  "kernelspec": {
   "display_name": ".venv",
   "language": "python",
   "name": "python3"
  },
  "language_info": {
   "codemirror_mode": {
    "name": "ipython",
    "version": 3
   },
   "file_extension": ".py",
   "mimetype": "text/x-python",
   "name": "python",
   "nbconvert_exporter": "python",
   "pygments_lexer": "ipython3",
   "version": "3.12.11"
  }
 },
 "nbformat": 4,
 "nbformat_minor": 5
}
