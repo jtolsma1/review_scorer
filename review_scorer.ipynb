{
 "cells": [
  {
   "cell_type": "code",
   "execution_count": 3,
   "id": "c4cb674e",
   "metadata": {},
   "outputs": [],
   "source": [
    "from pathlib import Path\n",
    "import pandas as pd\n",
    "import numpy as np\n",
    "import json\n",
    "import joblib\n",
    "import requests\n",
    "import ast\n",
    "import re\n",
    "import unicodedata"
   ]
  },
  {
   "cell_type": "code",
   "execution_count": 4,
   "id": "9033f53a",
   "metadata": {},
   "outputs": [],
   "source": [
    "pd.set_option(\"display.max_columns\",None)"
   ]
  },
  {
   "cell_type": "markdown",
   "id": "ff51039e",
   "metadata": {},
   "source": [
    "### Raw Data Import and Dataset Build"
   ]
  },
  {
   "cell_type": "code",
   "execution_count": 5,
   "id": "ab60a7db",
   "metadata": {},
   "outputs": [],
   "source": [
    "DATA = Path(\"dataset\").resolve()\n",
    "TEST_DF = Path(\"scratch_work_files\").resolve()"
   ]
  },
  {
   "cell_type": "code",
   "execution_count": 6,
   "id": "533d0573",
   "metadata": {},
   "outputs": [],
   "source": [
    "# # Load only the first 10,000 reviews for testing\n",
    "# reviews = []\n",
    "# businesses = []\n",
    "# with open(DATA / \"yelp_academic_dataset_review.json\", \"r\") as f1:\n",
    "#     for i, line in enumerate(f1):\n",
    "#         if i >= 250000:\n",
    "#             break\n",
    "#         reviews.append(json.loads(line))\n",
    "\n",
    "# with open(DATA / \"yelp_academic_dataset_business.json\",\"r\") as f2:\n",
    "#     for i, line in enumerate(f2):\n",
    "#         if i >= 250000:\n",
    "#             break\n",
    "#         businesses.append(json.loads(line))\n",
    "\n",
    "# reviews_df = pd.merge(\n",
    "#   pd.DataFrame(reviews),\n",
    "#   pd.DataFrame(businesses),\n",
    "#   how = \"inner\",\n",
    "#   on = \"business_id\",\n",
    "#   suffixes = [\"_review\",\"_restaurant\"]\n",
    "#   ).dropna()\n",
    "\n",
    "# joblib.dump(reviews_df,TEST_DF / \"review_testing_data.pkl\")\n"
   ]
  },
  {
   "cell_type": "code",
   "execution_count": 7,
   "id": "796ab423",
   "metadata": {},
   "outputs": [],
   "source": [
    "reviews_df_complete = joblib.load(TEST_DF / \"review_testing_data.pkl\")"
   ]
  },
  {
   "cell_type": "code",
   "execution_count": 8,
   "id": "4ee21808",
   "metadata": {},
   "outputs": [],
   "source": [
    "reviews_df = reviews_df_complete\n",
    "reviews_df = reviews_df[reviews_df[\"categories\"].str.lower().str.contains(\"restaurants\")]\n",
    "reviews_df = reviews_df[~reviews_df[\"categories\"].str.lower().str.contains(\"hotels\")]\n",
    "reviews_df = reviews_df[reviews_df[\"stars_review\"] < 5]\n",
    "reviews_df = reviews_df.sample(100).sort_values(by = \"name\",ascending = True).reset_index(drop = True)"
   ]
  },
  {
   "cell_type": "markdown",
   "id": "906bbeb3",
   "metadata": {},
   "source": [
    "### Function Builds"
   ]
  },
  {
   "cell_type": "code",
   "execution_count": 9,
   "id": "2aaf8684",
   "metadata": {},
   "outputs": [],
   "source": [
    "def CleanReviewText(text):\n",
    "    \"\"\"\n",
    "    Removes & and nonstandard ascii characters to make the LLM's interpretation job easier\n",
    "    \"\"\"\n",
    "\n",
    "    if not isinstance(text, str):\n",
    "        return \"\"\n",
    "\n",
    "    # Normalize Unicode (e.g., é → e)\n",
    "    text = unicodedata.normalize(\"NFKD\", text).encode(\"ascii\", \"ignore\").decode(\"utf-8\")\n",
    "\n",
    "    # Replace ampersands with \"and\" when used as a connector\n",
    "    text = re.sub(r'\\s*&\\s*', ' and ', text)\n",
    "\n",
    "    # Replace all forms of whitespace (tabs, newlines, multiple spaces) with a single space\n",
    "    text = re.sub(r'\\s+', ' ', text)\n",
    "\n",
    "    # Trim leading/trailing whitespace\n",
    "    return text.strip()\n",
    "\n",
    "\n",
    "reviews_df[\"text\"] = reviews_df[\"text\"].apply(CleanReviewText)"
   ]
  },
  {
   "cell_type": "code",
   "execution_count": 10,
   "id": "943a4ee6",
   "metadata": {},
   "outputs": [],
   "source": [
    "def FormatClassList(values, max_items=None):\n",
    "    \"\"\"\n",
    "    Transform the list of classes into different phrasings in natural English.\n",
    "    Useful for dynamically passing possible classes to the prompt.\n",
    "    \"\"\"\n",
    "    if max_items:\n",
    "        values = values[:max_items]\n",
    "    \n",
    "    if not values:\n",
    "        return \"\"\n",
    "    elif len(values) == 1:\n",
    "        return values[0]\n",
    "    elif len(values) == 2:\n",
    "        return f\"{values[0]} and {values[1]}\"\n",
    "    else:\n",
    "        return \", \".join(values[:-1]) + f\", and {values[-1]}\""
   ]
  },
  {
   "cell_type": "code",
   "execution_count": null,
   "id": "76ff7dc3",
   "metadata": {},
   "outputs": [],
   "source": [
    "def BuildPrompt(business_name,classes,reprocess = False):\n",
    "    \"\"\"\n",
    "    Build the prompt that will be passed to the LLM.\n",
    "    Using a function allows the prompt to be printed and previewed.\n",
    "    \"\"\"\n",
    "\n",
    "    prompt = f\"\"\"\n",
    "    You are a restaurant review classifier that is reviewing {business_name}.\n",
    "    Given a review of {business_name}, classify the reviewer's attitude toward three key aspects: food and drinks (including prices), service, and ambiance.\n",
    "    Return a JSON-style matrix in this form: {{\"food\": \"[class]\", \"service\": \"[class]\", \"ambiance\": \"[class]\"}}.\n",
    "    For [class], return one of four possible values: {FormatClassList(classes)}.\n",
    "    {FormatClassList(classes[:-1])} are classifications of the reviewer's feelings toward their experience.\n",
    "    Return \"{FormatClassList(classes[-1:])}\" if the reviewer does not address a certain aspect of the experience.\n",
    "    Here is an example review: \"The appetizers at this place were phenomenal, but the margaritas were overpriced and watery. Service was HORRENDOUS.\"\n",
    "    In this example, return: {{\"food\": \"{classes[1]}\", \"service\": \"{classes[2]}\", \"ambiance\": \"{classes[3]}\"}}.\n",
    "    Here is another example: \"Our server was outstanding and the entrees were perfectly cooked. We loved the decor, too!\"\n",
    "    In this example, return: {{\"food\": \"{classes[0]}\", \"service\": \"{classes[0]}\", \"ambiance\": \"{classes[0]}\"}}.\n",
    "    If the reviewer says multiple things about an aspect, bias toward the negative; that is, classify according to the more negative statements and choose \"{valid_classes[0]}\" only if the review is solely comprised of positive statements.\n",
    "    No other output is desired.\n",
    "    \"\"\"\n",
    "    if reprocess == True:\n",
    "        prompt += f\"\\nPlease focus on selecting a class from these values: {FormatClassList(classes)}. Other class choices, even if more descriptive, are not helpful in this instance.\"\n",
    "\n",
    "    return prompt"
   ]
  },
  {
   "cell_type": "code",
   "execution_count": 29,
   "id": "44e4c945",
   "metadata": {},
   "outputs": [],
   "source": [
    "def ClassifyReview(review_text, business_name, classes, model='mistral',reprocess = False):\n",
    "    \"\"\"\n",
    "    Build the prompt and pass to the LLM for evaluation.\n",
    "    \"\"\"\n",
    "\n",
    "    url = \"http://localhost:11434/api/chat\"\n",
    "    headers = {\"Content-Type\": \"application/json\"}\n",
    "      \n",
    "    data = {\n",
    "        \"model\": model,\n",
    "        \"messages\": [\n",
    "            {\n",
    "                \"role\": \"system\",\n",
    "                \"content\": BuildPrompt(business_name,classes,reprocess) \n",
    "            },\n",
    "            {\n",
    "                \"role\": \"user\",\n",
    "                \"content\": review_text\n",
    "            }\n",
    "        ],\n",
    "        \"stream\": False\n",
    "    }\n",
    "\n",
    "    response = requests.post(url, json=data, headers=headers)\n",
    "    return response.json()[\"message\"][\"content\"]\n"
   ]
  },
  {
   "cell_type": "code",
   "execution_count": 13,
   "id": "d5bc60d8",
   "metadata": {},
   "outputs": [],
   "source": [
    "def ParseReviewAnalyticsOutput(text):\n",
    "    \"\"\"\n",
    "    Parses potentially messy JSON-like LLM output by:\n",
    "    - Truncating after the first closing brace\n",
    "    - Quoting unquoted keys\n",
    "    - Quoting unquoted string values\n",
    "    - Falling back to regex if JSON parsing fails\n",
    "    Returns a dictionary with aspect classifications.\n",
    "    \"\"\"\n",
    "    # Step 0: Truncate at first closing brace to avoid trailing commentary\n",
    "    text = text.strip()\n",
    "    closing_brace_index = text.find(\"}\")\n",
    "    if closing_brace_index != -1:\n",
    "        text = text[:closing_brace_index + 1]\n",
    "\n",
    "    # Step 1: Fix unquoted keys\n",
    "    text = re.sub(r'([{,]\\s*)(\\w+)(\\s*:)', r'\\1\"\\2\"\\3', text)\n",
    "\n",
    "    # Step 2: Fix unquoted string values (assume words are categorical, not numbers or booleans)\n",
    "    text = re.sub(r':\\s*([a-zA-Z_]+)(\\s*[,}])', r': \"\\1\"\\2', text)\n",
    "\n",
    "    # Try JSON parsing\n",
    "    try:\n",
    "        parsed = json.loads(text)\n",
    "        return {\n",
    "            \"food\": parsed.get(\"food\", \"none\").lower(),\n",
    "            \"service\": parsed.get(\"service\", \"none\").lower(),\n",
    "            \"ambiance\": parsed.get(\"ambiance\", \"none\").lower()\n",
    "        }\n",
    "    except Exception:\n",
    "        pass  # fallback to regex next\n",
    "\n",
    "    # Fallback regex-based parsing\n",
    "    result = {\"food\": \"none\", \"service\": \"none\", \"ambiance\": \"none\"}\n",
    "    for aspect in [\"food\", \"service\", \"ambiance\"]:\n",
    "        match = re.search(rf'{aspect}\\s*[:=]\\s*[\"\\']?(\\w+)[\"\\']?', text, re.IGNORECASE)\n",
    "        if match:\n",
    "            result[aspect] = match.group(1).lower()\n",
    "\n",
    "    return result\n"
   ]
  },
  {
   "cell_type": "code",
   "execution_count": 14,
   "id": "090a3854",
   "metadata": {},
   "outputs": [],
   "source": [
    "def GenerateReprocessData(df,classes):\n",
    "    invalid_food = ~df[\"food\"].isin(classes)\n",
    "    invalid_service = ~df[\"service\"].isin(classes)\n",
    "    invalid_ambiance = ~df[\"ambiance\"].isin(classes)\n",
    "\n",
    "    to_reprocess = df[invalid_food | invalid_service | invalid_ambiance]\n",
    "    df = df.drop(labels = to_reprocess.index)\n",
    "    to_reprocess = to_reprocess.reset_index(drop=True)\n",
    "    return df,to_reprocess"
   ]
  },
  {
   "cell_type": "markdown",
   "id": "061d1dc0",
   "metadata": {},
   "source": [
    "### Review Evaluation Config"
   ]
  },
  {
   "cell_type": "code",
   "execution_count": 48,
   "id": "91f85635",
   "metadata": {},
   "outputs": [
    {
     "name": "stdout",
     "output_type": "stream",
     "text": [
      "\n",
      "    You are a restaurant review classifier that is reviewing {restaurant name}.\n",
      "    Given a review of {restaurant name}, classify the reviewer's attitude toward three key aspects: food and drinks (including prices), service, and ambiance.\n",
      "    Return a JSON-style matrix in this form: {\"food\": \"[class]\", \"service\": \"[class]\", \"ambiance\": \"[class]\"}.\n",
      "    For [class], return one of four possible values: positive, disappointed, angry, and none.\n",
      "    positive, disappointed, and angry are classifications of the reviewer's feelings toward their experience.\n",
      "    Return \"none\" if the reviewer does not address a certain aspect of the experience.\n",
      "    Here is an example review: \"The appetizers at this place were phenomenal, but the margaritas were overpriced and watery. Service was HORRENDOUS.\"\n",
      "    In this example, return: {\"food\": \"disappointed\", \"service\": \"angry\", \"ambiance\": \"none\"}.\n",
      "    Here is another example: \"Our server was outstanding and the entrees were perfectly cooked. We loved the decor, too!\"\n",
      "    In this example, return: {\"food\": \"positive\", \"service\": \"positive\", \"ambiance\": \"positive\"}.\n",
      "    If the reviewer says multiple things about an aspect, bias toward the negative; that is, classify according to the more negative statements and choose \"positive\" only if the review is solely comprised of positive statements.\n",
      "    No other output is desired.\n",
      "    \n",
      " Please focus on selecting a class from these four values: positive, disappointed, angry, and none. Other class choices, even if more descriptive, are not helpful in this instance.\n"
     ]
    }
   ],
   "source": [
    "valid_classes = [\"positive\",\"disappointed\",\"angry\",\"none\"]\n",
    "print(BuildPrompt(business_name=\"{restaurant name}\",classes=valid_classes,reprocess=True))"
   ]
  },
  {
   "cell_type": "markdown",
   "id": "f7b4c9c1",
   "metadata": {},
   "source": [
    "### Process Analytics"
   ]
  },
  {
   "cell_type": "code",
   "execution_count": null,
   "id": "02bd3af1",
   "metadata": {},
   "outputs": [
    {
     "name": "stdout",
     "output_type": "stream",
     "text": [
      "CPU times: user 310 ms, sys: 81.1 ms, total: 391 ms\n",
      "Wall time: 4min 31s\n"
     ]
    }
   ],
   "source": [
    "%%time\n",
    "\n",
    "result_list = []\n",
    "for review in reviews_df.itertuples():\n",
    "    result = ClassifyReview(review.text,business_name=review.name,classes=valid_classes,reprocess = False)\n",
    "    result_list.append(result)"
   ]
  },
  {
   "cell_type": "code",
   "execution_count": 17,
   "id": "6e6b73d1",
   "metadata": {},
   "outputs": [],
   "source": [
    "result_df = pd.concat([reviews_df[[\"name\",\"text\"]],(pd.DataFrame(pd.Series(result_list).apply(ParseReviewAnalyticsOutput).tolist()))],axis = 1)"
   ]
  },
  {
   "cell_type": "code",
   "execution_count": 18,
   "id": "b3c34390",
   "metadata": {},
   "outputs": [],
   "source": [
    "# result_df[\"check_col\"] = (\n",
    "# result_df[\"food\"].str.strip().str.lower()\n",
    "# + result_df[\"service\"].str.strip().str.lower()\n",
    "# + result_df[\"ambiance\"].str.strip().str.lower()\n",
    "# )\n",
    "\n",
    "# result_df[result_df[\"check_col\"] == \"nonenonenone\"]"
   ]
  },
  {
   "cell_type": "markdown",
   "id": "476e04b0",
   "metadata": {},
   "source": [
    "### Reprocess Analytics for Noncompliant Rows"
   ]
  },
  {
   "cell_type": "code",
   "execution_count": 19,
   "id": "49fb9f43",
   "metadata": {},
   "outputs": [],
   "source": [
    "# from random import randint\n",
    "# counter = 0\n",
    "# while counter < 5:\n",
    "#     result_df.loc[randint(0,99),[\"food\"]] = \"N/A\"\n",
    "#     result_df.loc[randint(0,99),[\"ambiance\"]] = \"N/A\"\n",
    "#     result_df.loc[randint(0,99),[\"service\"]] = \"N/A\"\n",
    "#     counter +=1\n"
   ]
  },
  {
   "cell_type": "code",
   "execution_count": 20,
   "id": "996caf94",
   "metadata": {},
   "outputs": [],
   "source": [
    "result_df,to_reprocess = GenerateReprocessData(result_df,valid_classes)"
   ]
  },
  {
   "cell_type": "code",
   "execution_count": 38,
   "id": "1d7d2fa3",
   "metadata": {},
   "outputs": [
    {
     "data": {
      "text/html": [
       "<div>\n",
       "<style scoped>\n",
       "    .dataframe tbody tr th:only-of-type {\n",
       "        vertical-align: middle;\n",
       "    }\n",
       "\n",
       "    .dataframe tbody tr th {\n",
       "        vertical-align: top;\n",
       "    }\n",
       "\n",
       "    .dataframe thead th {\n",
       "        text-align: right;\n",
       "    }\n",
       "</style>\n",
       "<table border=\"1\" class=\"dataframe\">\n",
       "  <thead>\n",
       "    <tr style=\"text-align: right;\">\n",
       "      <th></th>\n",
       "      <th>name</th>\n",
       "      <th>text</th>\n",
       "      <th>food</th>\n",
       "      <th>service</th>\n",
       "      <th>ambiance</th>\n",
       "    </tr>\n",
       "  </thead>\n",
       "  <tbody>\n",
       "    <tr>\n",
       "      <th>0</th>\n",
       "      <td>Cyrano's</td>\n",
       "      <td>We came here just for desert later in the even...</td>\n",
       "      <td>okay</td>\n",
       "      <td>angry</td>\n",
       "      <td>none</td>\n",
       "    </tr>\n",
       "    <tr>\n",
       "      <th>1</th>\n",
       "      <td>Joey B's On The Hill</td>\n",
       "      <td>We stopped for lunch on Sunday. We've tried to...</td>\n",
       "      <td>disappointed</td>\n",
       "      <td>positive</td>\n",
       "      <td>mixed</td>\n",
       "    </tr>\n",
       "    <tr>\n",
       "      <th>2</th>\n",
       "      <td>Sculley's Waterfront Restaurant</td>\n",
       "      <td>Pretty good food and drinks - would be happier...</td>\n",
       "      <td>positive</td>\n",
       "      <td>mixed</td>\n",
       "      <td>positive</td>\n",
       "    </tr>\n",
       "    <tr>\n",
       "      <th>3</th>\n",
       "      <td>Swiss Haus Cafe &amp; Pastry Bar</td>\n",
       "      <td>When we first moved into Philadelphia and I wa...</td>\n",
       "      <td>disappointed</td>\n",
       "      <td>none</td>\n",
       "      <td>neutral</td>\n",
       "    </tr>\n",
       "    <tr>\n",
       "      <th>4</th>\n",
       "      <td>The Black Sheep Pub &amp; Restaurant</td>\n",
       "      <td>A friend and I stopped by here to grab somethi...</td>\n",
       "      <td>disappointed</td>\n",
       "      <td>none (somewhat slow mentioned but with benefit...</td>\n",
       "      <td>none</td>\n",
       "    </tr>\n",
       "  </tbody>\n",
       "</table>\n",
       "</div>"
      ],
      "text/plain": [
       "                               name  \\\n",
       "0                          Cyrano's   \n",
       "1              Joey B's On The Hill   \n",
       "2   Sculley's Waterfront Restaurant   \n",
       "3      Swiss Haus Cafe & Pastry Bar   \n",
       "4  The Black Sheep Pub & Restaurant   \n",
       "\n",
       "                                                text          food  \\\n",
       "0  We came here just for desert later in the even...          okay   \n",
       "1  We stopped for lunch on Sunday. We've tried to...  disappointed   \n",
       "2  Pretty good food and drinks - would be happier...      positive   \n",
       "3  When we first moved into Philadelphia and I wa...  disappointed   \n",
       "4  A friend and I stopped by here to grab somethi...  disappointed   \n",
       "\n",
       "                                             service  ambiance  \n",
       "0                                              angry      none  \n",
       "1                                           positive     mixed  \n",
       "2                                              mixed  positive  \n",
       "3                                               none   neutral  \n",
       "4  none (somewhat slow mentioned but with benefit...      none  "
      ]
     },
     "execution_count": 38,
     "metadata": {},
     "output_type": "execute_result"
    }
   ],
   "source": [
    "to_reprocess"
   ]
  },
  {
   "cell_type": "code",
   "execution_count": 39,
   "id": "425cc1e3",
   "metadata": {},
   "outputs": [
    {
     "name": "stdout",
     "output_type": "stream",
     "text": [
      "CPU times: user 15.8 ms, sys: 5.41 ms, total: 21.2 ms\n",
      "Wall time: 17.3 s\n"
     ]
    }
   ],
   "source": [
    "%%time\n",
    "\n",
    "repr_result_list = []\n",
    "for review_repr in to_reprocess.itertuples():\n",
    "    repr_result = ClassifyReview(review_repr.text,business_name=review_repr.name,classes=valid_classes,reprocess = True)\n",
    "    repr_result_list.append(repr_result)"
   ]
  },
  {
   "cell_type": "code",
   "execution_count": 40,
   "id": "665ce7d8",
   "metadata": {},
   "outputs": [],
   "source": [
    "reprocessed = pd.concat([to_reprocess[[\"name\",\"text\"]],(pd.DataFrame(pd.Series(repr_result_list).apply(ParseReviewAnalyticsOutput).tolist()))],axis = 1)"
   ]
  },
  {
   "cell_type": "markdown",
   "id": "f62638e4",
   "metadata": {},
   "source": [
    "### Final Reprocess Cycle: Replace Noncompliant Rows With 'none'"
   ]
  },
  {
   "cell_type": "code",
   "execution_count": 42,
   "id": "a9de6d23",
   "metadata": {},
   "outputs": [
    {
     "data": {
      "text/html": [
       "<div>\n",
       "<style scoped>\n",
       "    .dataframe tbody tr th:only-of-type {\n",
       "        vertical-align: middle;\n",
       "    }\n",
       "\n",
       "    .dataframe tbody tr th {\n",
       "        vertical-align: top;\n",
       "    }\n",
       "\n",
       "    .dataframe thead th {\n",
       "        text-align: right;\n",
       "    }\n",
       "</style>\n",
       "<table border=\"1\" class=\"dataframe\">\n",
       "  <thead>\n",
       "    <tr style=\"text-align: right;\">\n",
       "      <th></th>\n",
       "      <th>name</th>\n",
       "      <th>text</th>\n",
       "      <th>food</th>\n",
       "      <th>service</th>\n",
       "      <th>ambiance</th>\n",
       "    </tr>\n",
       "  </thead>\n",
       "  <tbody>\n",
       "    <tr>\n",
       "      <th>0</th>\n",
       "      <td>Cyrano's</td>\n",
       "      <td>We came here just for desert later in the even...</td>\n",
       "      <td>disappointed</td>\n",
       "      <td>angry</td>\n",
       "      <td>none</td>\n",
       "    </tr>\n",
       "    <tr>\n",
       "      <th>1</th>\n",
       "      <td>Joey B's On The Hill</td>\n",
       "      <td>We stopped for lunch on Sunday. We've tried to...</td>\n",
       "      <td>disappointed</td>\n",
       "      <td>positive</td>\n",
       "      <td>none</td>\n",
       "    </tr>\n",
       "    <tr>\n",
       "      <th>2</th>\n",
       "      <td>Sculley's Waterfront Restaurant</td>\n",
       "      <td>Pretty good food and drinks - would be happier...</td>\n",
       "      <td>positive</td>\n",
       "      <td>disappointed</td>\n",
       "      <td>positive</td>\n",
       "    </tr>\n",
       "    <tr>\n",
       "      <th>3</th>\n",
       "      <td>Swiss Haus Cafe &amp; Pastry Bar</td>\n",
       "      <td>When we first moved into Philadelphia and I wa...</td>\n",
       "      <td>disappointed</td>\n",
       "      <td>none</td>\n",
       "      <td>disappointed</td>\n",
       "    </tr>\n",
       "    <tr>\n",
       "      <th>4</th>\n",
       "      <td>The Black Sheep Pub &amp; Restaurant</td>\n",
       "      <td>A friend and I stopped by here to grab somethi...</td>\n",
       "      <td>disappointed</td>\n",
       "      <td>none</td>\n",
       "      <td>positive</td>\n",
       "    </tr>\n",
       "  </tbody>\n",
       "</table>\n",
       "</div>"
      ],
      "text/plain": [
       "                               name  \\\n",
       "0                          Cyrano's   \n",
       "1              Joey B's On The Hill   \n",
       "2   Sculley's Waterfront Restaurant   \n",
       "3      Swiss Haus Cafe & Pastry Bar   \n",
       "4  The Black Sheep Pub & Restaurant   \n",
       "\n",
       "                                                text          food  \\\n",
       "0  We came here just for desert later in the even...  disappointed   \n",
       "1  We stopped for lunch on Sunday. We've tried to...  disappointed   \n",
       "2  Pretty good food and drinks - would be happier...      positive   \n",
       "3  When we first moved into Philadelphia and I wa...  disappointed   \n",
       "4  A friend and I stopped by here to grab somethi...  disappointed   \n",
       "\n",
       "        service      ambiance  \n",
       "0         angry          none  \n",
       "1      positive          none  \n",
       "2  disappointed      positive  \n",
       "3          none  disappointed  \n",
       "4          none      positive  "
      ]
     },
     "execution_count": 42,
     "metadata": {},
     "output_type": "execute_result"
    }
   ],
   "source": [
    "reprocessed"
   ]
  },
  {
   "cell_type": "code",
   "execution_count": 43,
   "id": "52dd4728",
   "metadata": {},
   "outputs": [],
   "source": [
    "reprocessed.loc[~reprocessed[\"food\"].isin(valid_classes),[\"food\"]] = \"none\"\n",
    "reprocessed.loc[~reprocessed[\"service\"].isin(valid_classes),[\"service\"]] = \"none\"\n",
    "reprocessed.loc[~reprocessed[\"ambiance\"].isin(valid_classes),[\"ambiance\"]] = \"none\"\n"
   ]
  },
  {
   "cell_type": "code",
   "execution_count": 46,
   "id": "c7548cd1",
   "metadata": {},
   "outputs": [],
   "source": [
    "result_df = pd.concat([result_df,reprocessed],axis = 0).reset_index(drop = True)"
   ]
  },
  {
   "cell_type": "code",
   "execution_count": 47,
   "id": "1f5c7b80",
   "metadata": {},
   "outputs": [
    {
     "data": {
      "text/html": [
       "<div>\n",
       "<style scoped>\n",
       "    .dataframe tbody tr th:only-of-type {\n",
       "        vertical-align: middle;\n",
       "    }\n",
       "\n",
       "    .dataframe tbody tr th {\n",
       "        vertical-align: top;\n",
       "    }\n",
       "\n",
       "    .dataframe thead th {\n",
       "        text-align: right;\n",
       "    }\n",
       "</style>\n",
       "<table border=\"1\" class=\"dataframe\">\n",
       "  <thead>\n",
       "    <tr style=\"text-align: right;\">\n",
       "      <th></th>\n",
       "      <th>name</th>\n",
       "      <th>text</th>\n",
       "      <th>food</th>\n",
       "      <th>service</th>\n",
       "      <th>ambiance</th>\n",
       "    </tr>\n",
       "  </thead>\n",
       "  <tbody>\n",
       "    <tr>\n",
       "      <th>0</th>\n",
       "      <td>101 Taiwanese Cuisine</td>\n",
       "      <td>Overrated. Wait is long. Took me 90mins to get...</td>\n",
       "      <td>disappointed</td>\n",
       "      <td>angry</td>\n",
       "      <td>none</td>\n",
       "    </tr>\n",
       "    <tr>\n",
       "      <th>1</th>\n",
       "      <td>1200 Chophouse</td>\n",
       "      <td>We came on a Saturday evening. We got the Surf...</td>\n",
       "      <td>disappointed</td>\n",
       "      <td>positive</td>\n",
       "      <td>positive</td>\n",
       "    </tr>\n",
       "    <tr>\n",
       "      <th>2</th>\n",
       "      <td>312 Pizza Company</td>\n",
       "      <td>I love me some deep dish pizza, I was born in ...</td>\n",
       "      <td>positive</td>\n",
       "      <td>positive</td>\n",
       "      <td>positive</td>\n",
       "    </tr>\n",
       "    <tr>\n",
       "      <th>3</th>\n",
       "      <td>6 North Cafe</td>\n",
       "      <td>This was my first time at this place. I went h...</td>\n",
       "      <td>positive</td>\n",
       "      <td>none</td>\n",
       "      <td>positive</td>\n",
       "    </tr>\n",
       "    <tr>\n",
       "      <th>4</th>\n",
       "      <td>Akira Hibachi &amp; Sushi Bar</td>\n",
       "      <td>Place was okay, sushi was good, hibachi was wa...</td>\n",
       "      <td>disappointed</td>\n",
       "      <td>positive</td>\n",
       "      <td>none</td>\n",
       "    </tr>\n",
       "    <tr>\n",
       "      <th>...</th>\n",
       "      <td>...</td>\n",
       "      <td>...</td>\n",
       "      <td>...</td>\n",
       "      <td>...</td>\n",
       "      <td>...</td>\n",
       "    </tr>\n",
       "    <tr>\n",
       "      <th>95</th>\n",
       "      <td>Cyrano's</td>\n",
       "      <td>We came here just for desert later in the even...</td>\n",
       "      <td>disappointed</td>\n",
       "      <td>angry</td>\n",
       "      <td>none</td>\n",
       "    </tr>\n",
       "    <tr>\n",
       "      <th>96</th>\n",
       "      <td>Joey B's On The Hill</td>\n",
       "      <td>We stopped for lunch on Sunday. We've tried to...</td>\n",
       "      <td>disappointed</td>\n",
       "      <td>positive</td>\n",
       "      <td>none</td>\n",
       "    </tr>\n",
       "    <tr>\n",
       "      <th>97</th>\n",
       "      <td>Sculley's Waterfront Restaurant</td>\n",
       "      <td>Pretty good food and drinks - would be happier...</td>\n",
       "      <td>positive</td>\n",
       "      <td>disappointed</td>\n",
       "      <td>positive</td>\n",
       "    </tr>\n",
       "    <tr>\n",
       "      <th>98</th>\n",
       "      <td>Swiss Haus Cafe &amp; Pastry Bar</td>\n",
       "      <td>When we first moved into Philadelphia and I wa...</td>\n",
       "      <td>disappointed</td>\n",
       "      <td>none</td>\n",
       "      <td>disappointed</td>\n",
       "    </tr>\n",
       "    <tr>\n",
       "      <th>99</th>\n",
       "      <td>The Black Sheep Pub &amp; Restaurant</td>\n",
       "      <td>A friend and I stopped by here to grab somethi...</td>\n",
       "      <td>disappointed</td>\n",
       "      <td>none</td>\n",
       "      <td>positive</td>\n",
       "    </tr>\n",
       "  </tbody>\n",
       "</table>\n",
       "<p>100 rows × 5 columns</p>\n",
       "</div>"
      ],
      "text/plain": [
       "                                name  \\\n",
       "0              101 Taiwanese Cuisine   \n",
       "1                     1200 Chophouse   \n",
       "2                  312 Pizza Company   \n",
       "3                       6 North Cafe   \n",
       "4          Akira Hibachi & Sushi Bar   \n",
       "..                               ...   \n",
       "95                          Cyrano's   \n",
       "96              Joey B's On The Hill   \n",
       "97   Sculley's Waterfront Restaurant   \n",
       "98      Swiss Haus Cafe & Pastry Bar   \n",
       "99  The Black Sheep Pub & Restaurant   \n",
       "\n",
       "                                                 text          food  \\\n",
       "0   Overrated. Wait is long. Took me 90mins to get...  disappointed   \n",
       "1   We came on a Saturday evening. We got the Surf...  disappointed   \n",
       "2   I love me some deep dish pizza, I was born in ...      positive   \n",
       "3   This was my first time at this place. I went h...      positive   \n",
       "4   Place was okay, sushi was good, hibachi was wa...  disappointed   \n",
       "..                                                ...           ...   \n",
       "95  We came here just for desert later in the even...  disappointed   \n",
       "96  We stopped for lunch on Sunday. We've tried to...  disappointed   \n",
       "97  Pretty good food and drinks - would be happier...      positive   \n",
       "98  When we first moved into Philadelphia and I wa...  disappointed   \n",
       "99  A friend and I stopped by here to grab somethi...  disappointed   \n",
       "\n",
       "         service      ambiance  \n",
       "0          angry          none  \n",
       "1       positive      positive  \n",
       "2       positive      positive  \n",
       "3           none      positive  \n",
       "4       positive          none  \n",
       "..           ...           ...  \n",
       "95         angry          none  \n",
       "96      positive          none  \n",
       "97  disappointed      positive  \n",
       "98          none  disappointed  \n",
       "99          none      positive  \n",
       "\n",
       "[100 rows x 5 columns]"
      ]
     },
     "execution_count": 47,
     "metadata": {},
     "output_type": "execute_result"
    }
   ],
   "source": [
    "result_df"
   ]
  },
  {
   "cell_type": "code",
   "execution_count": null,
   "id": "80d24663",
   "metadata": {},
   "outputs": [],
   "source": []
  }
 ],
 "metadata": {
  "kernelspec": {
   "display_name": ".venv",
   "language": "python",
   "name": "python3"
  },
  "language_info": {
   "codemirror_mode": {
    "name": "ipython",
    "version": 3
   },
   "file_extension": ".py",
   "mimetype": "text/x-python",
   "name": "python",
   "nbconvert_exporter": "python",
   "pygments_lexer": "ipython3",
   "version": "3.12.11"
  }
 },
 "nbformat": 4,
 "nbformat_minor": 5
}
