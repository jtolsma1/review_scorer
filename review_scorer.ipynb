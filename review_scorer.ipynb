{
 "cells": [
  {
   "cell_type": "markdown",
   "id": "23cf40f2",
   "metadata": {},
   "source": [
    "# Yelp Restaurant Review Scorer"
   ]
  },
  {
   "cell_type": "markdown",
   "id": "597bdd21",
   "metadata": {},
   "source": [
    "### Package Import and Notebook Config"
   ]
  },
  {
   "cell_type": "code",
   "execution_count": 65,
   "id": "c4cb674e",
   "metadata": {},
   "outputs": [],
   "source": [
    "from pathlib import Path\n",
    "import pandas as pd\n",
    "import json\n",
    "import joblib\n",
    "import requests\n",
    "import matplotlib.pyplot as plt\n",
    "import re\n",
    "import unicodedata\n",
    "import inflect\n",
    "infl = inflect.engine()"
   ]
  },
  {
   "cell_type": "code",
   "execution_count": 66,
   "id": "9033f53a",
   "metadata": {},
   "outputs": [],
   "source": [
    "pd.set_option(\"display.max_columns\",None)\n",
    "\n",
    "SAMPLE_DATA = Path(\"dataset\").resolve()\n",
    "COMPLETE_DATA = Path(\"dataset_complete\").resolve()"
   ]
  },
  {
   "cell_type": "markdown",
   "id": "ff51039e",
   "metadata": {},
   "source": [
    "### Raw Data Import and Dataset Build"
   ]
  },
  {
   "cell_type": "markdown",
   "id": "26722d47",
   "metadata": {},
   "source": [
    "##### Load a Sample of the Yelp Data\n",
    "- At time of development, the complete Yelp review dataset is > 5 GB; a more manageably-sized sample is needed\n",
    "- A sample of the Yelp dataset has been prepared for you in `dataset/`\n",
    "- Load the prepared sample in the next cell"
   ]
  },
  {
   "cell_type": "code",
   "execution_count": 67,
   "id": "d8a37e3b",
   "metadata": {},
   "outputs": [],
   "source": [
    "reviews_df_complete = pd.read_csv(SAMPLE_DATA / \"reviews_samples_preloaded.csv\").drop(\"Unnamed: 0\",axis =1)\n",
    "# reviews_df_complete = joblib.load(SAMPLE_DATA / \"reviews_samples.pkl\")"
   ]
  },
  {
   "cell_type": "markdown",
   "id": "486d431d",
   "metadata": {},
   "source": [
    "##### Preparing Your Own Sample (Optional)\n",
    "To prepare your own sample of the Yelp dataset, complete these steps:\n",
    "* Download the complete [Yelp Open Dataset](https://business.yelp.com/data/resources/open-dataset/) here:<br><br>\n",
    "<img src = \"misc/yelp_download.png\" format=\"png\" width = \"700\"></img><br><br>\n",
    "* Extract the JSON files and store in the empty folder `dataset_complete`\n",
    "* Ensure that these filenames are used:\n",
    "    - Reviews data: `yelp_academic_dataset_review.json`\n",
    "    - Businesses data: `yelp_academic_dataset_business.json`\n",
    "* Uncomment and execute the next code cell to build and store a custom sample"
   ]
  },
  {
   "cell_type": "code",
   "execution_count": 68,
   "id": "533d0573",
   "metadata": {},
   "outputs": [],
   "source": [
    "# n_rows = 200000\n",
    "\n",
    "# # load \"n_rows\" reviews\n",
    "# reviews = []\n",
    "# with open(COMPLETE_DATA / \"yelp_academic_dataset_review.json\", \"r\") as f1:\n",
    "#     for i, line in enumerate(f1):\n",
    "#         if i >= n_rows:\n",
    "#             break\n",
    "#         reviews.append(json.loads(line))\n",
    "\n",
    "# # load \"n_rows\" businesses -- these are distinct from reviews in the data\n",
    "# businesses = []\n",
    "# with open(COMPLETE_DATA / \"yelp_academic_dataset_business.json\",\"r\") as f2:\n",
    "#     for i, line in enumerate(f2):\n",
    "#         if i >= n_rows:\n",
    "#             break\n",
    "#         businesses.append(json.loads(line))\n",
    "\n",
    "# # join to build a sample review dataset\n",
    "# reviews_sample = pd.merge(\n",
    "#   pd.DataFrame(reviews),\n",
    "#   pd.DataFrame(businesses),\n",
    "#   how = \"inner\",\n",
    "#   on = \"business_id\",\n",
    "#   suffixes = [\"_review\",\"_restaurant\"]\n",
    "#   ).dropna()\n",
    "\n",
    "# # # store the reviews sample locally\n",
    "# joblib.dump(reviews_sample, SAMPLE_DATA / \"reviews_samples.pkl\")\n",
    "\n",
    "# reviews_df_complete = reviews_samples.copy()\n"
   ]
  },
  {
   "cell_type": "markdown",
   "id": "9cb0f3fc",
   "metadata": {},
   "source": [
    "##### Create a Subsample for Applying the Model\n",
    "- This section isolates one or more restaurants to evaluate using the model\n",
    "- Current code is set up to demonstrate the model for a batch of three restaurants, but this can be modified"
   ]
  },
  {
   "cell_type": "code",
   "execution_count": 69,
   "id": "4d36f621",
   "metadata": {},
   "outputs": [],
   "source": [
    "n_sample = 3 # set the number of restaurants here"
   ]
  },
  {
   "cell_type": "code",
   "execution_count": 70,
   "id": "3f7115c5",
   "metadata": {},
   "outputs": [],
   "source": [
    "# compute average stars for each restaurant\n",
    "# evaluating restaurants with low average stars may produce more interesting results\n",
    "reviews_df_complete = pd.merge(\n",
    "    reviews_df_complete,\n",
    "    reviews_df_complete.groupby(\"business_id\")[\"stars_review\"].mean().rename(\"avg_stars\"),\n",
    "    how = \"inner\",\n",
    "    on = \"business_id\"\n",
    ")"
   ]
  },
  {
   "cell_type": "code",
   "execution_count": 71,
   "id": "c6ea507a",
   "metadata": {},
   "outputs": [],
   "source": [
    "# filter the dataset for restaurants only \n",
    "cond1 = reviews_df_complete[\"categories\"].str.lower().str.contains(\"restaurants\")\n",
    "\n",
    "# explicitly remove hotels to ensure the dataset contains *standalone* restaurants only\n",
    "cond2 = reviews_df_complete[\"categories\"].str.lower().str.contains(\"hotels\") \n",
    "\n",
    "# optional: filter for restaurants with mixed reviews for more interesting results\n",
    "cond3 = reviews_df_complete[\"avg_stars\"] < 4\n",
    "\n",
    "reviews_df_complete = reviews_df_complete[\n",
    "    (cond1) \n",
    "    & (~cond2)\n",
    "#    & (cond3)\n",
    "]"
   ]
  },
  {
   "cell_type": "code",
   "execution_count": 72,
   "id": "f141067e",
   "metadata": {},
   "outputs": [],
   "source": [
    "# sample the data for n restaurants with >= 100 and <= 200 reviews (this is the optimal demonstration quantity)\n",
    "review_counts = reviews_df_complete.groupby(\"business_id\")[\"review_id\"].count().rename(\"total_reviews\")\n",
    "sample_id = review_counts[review_counts.between(100,200)].sample(n_sample).index.tolist()\n",
    "\n",
    "reviews_df = reviews_df_complete.copy()[reviews_df_complete[\"business_id\"].isin(sample_id)]\n",
    "reviews_df = reviews_df[[\"business_id\",\"name\",\"text\"]].sort_values(by = \"name\").reset_index(drop = True)\n",
    "\n",
    "# reintroduce review counts into the sample dataframe -- this will come in handy later\n",
    "reviews_df = pd.merge(reviews_df,review_counts,how = \"inner\",on = \"business_id\").drop('business_id',axis = 1)"
   ]
  },
  {
   "cell_type": "markdown",
   "id": "906bbeb3",
   "metadata": {},
   "source": [
    "### Function Builds\n",
    "Custom functionality includes:\n",
    "- Cleanup of nonstandard ascii characters (ampersands, escape characters) to make LLM interpretation easier\n",
    "- Arraying of possible classes (class = evaluation of review content, such as \"positive\" or \"disappointed\") in natural language\n",
    "- Prompt build\n",
    "- Executing model evaluation of review content according to prompt instructions\n",
    "- Parsing model output into JSON format\n",
    "- Generation of model output that must be reprocessed"
   ]
  },
  {
   "cell_type": "code",
   "execution_count": 73,
   "id": "2aaf8684",
   "metadata": {},
   "outputs": [],
   "source": [
    "def CleanReviewText(text):\n",
    "    \"\"\"\n",
    "    Removes & and nonstandard ascii characters to make the LLM's interpretation job easier\n",
    "    \"\"\"\n",
    "\n",
    "    if not isinstance(text, str):\n",
    "        return \"\"\n",
    "\n",
    "    # Normalize Unicode (e.g., é → e)\n",
    "    text = unicodedata.normalize(\"NFKD\", text).encode(\"ascii\", \"ignore\").decode(\"utf-8\")\n",
    "\n",
    "    # Replace ampersands with \"and\" when used as a connector\n",
    "    text = re.sub(r'\\s*&\\s*', ' and ', text)\n",
    "\n",
    "    # Replace all forms of whitespace (tabs, newlines, multiple spaces) with a single space\n",
    "    text = re.sub(r'\\s+', ' ', text)\n",
    "\n",
    "    # Trim leading/trailing whitespace\n",
    "    return text.strip()\n",
    "\n",
    "\n",
    "reviews_df[\"text\"] = reviews_df[\"text\"].apply(CleanReviewText)"
   ]
  },
  {
   "cell_type": "code",
   "execution_count": 74,
   "id": "943a4ee6",
   "metadata": {},
   "outputs": [],
   "source": [
    "def FormatClassList(values, max_items=None):\n",
    "    \"\"\"\n",
    "    Transform the list of classes into different phrasings in natural English.\n",
    "    Useful for dynamically passing possible classes to the prompt.\n",
    "    \"\"\"\n",
    "    if max_items:\n",
    "        values = values[:max_items]\n",
    "    \n",
    "    if not values:\n",
    "        return \"\"\n",
    "    elif len(values) == 1:\n",
    "        return values[0]\n",
    "    elif len(values) == 2:\n",
    "        return f\"{values[0]} and {values[1]}\"\n",
    "    else:\n",
    "        return \", \".join(values[:-1]) + f\", and {values[-1]}\""
   ]
  },
  {
   "cell_type": "code",
   "execution_count": 75,
   "id": "76ff7dc3",
   "metadata": {},
   "outputs": [],
   "source": [
    "def BuildPrompt(business_name,classes,reprocess = False):\n",
    "    \"\"\"\n",
    "    Build the prompt that will be passed to the LLM.\n",
    "    Using a function allows the prompt to be printed and previewed.\n",
    "    \"\"\"\n",
    "\n",
    "    prompt = f\"\"\"\n",
    "You are a restaurant review classifier that is reviewing {business_name}.\n",
    "Given a review of {business_name}, classify the reviewer's attitude toward three key aspects: food and drinks (including prices), service, and ambiance.\n",
    "Return a JSON-style matrix in this form: {{\"food\": \"[class]\", \"service\": \"[class]\", \"ambiance\": \"[class]\"}}.\n",
    "For [class], return one of {infl.number_to_words(len(valid_classes))} possible values: {FormatClassList(classes)}.\n",
    "{FormatClassList(classes[:-1])} are classifications of the reviewer's feelings toward their experience.\n",
    "Return \"{FormatClassList(classes[-1:])}\" if the reviewer does not address a certain aspect of the experience.\n",
    "Here is an example review: \"The appetizers at this place were phenomenal, but the margaritas were overpriced and watery. Service was HORRENDOUS.\"\n",
    "In this example, return: {{\"food\": \"{classes[1]}\", \"service\": \"{classes[2]}\", \"ambiance\": \"{classes[3]}\"}}.\n",
    "Here is another example: \"Our server was outstanding and the entrees were perfectly cooked. We loved the decor, too!\"\n",
    "In this example, return: {{\"food\": \"{classes[0]}\", \"service\": \"{classes[0]}\", \"ambiance\": \"{classes[0]}\"}}.\n",
    "No other output is desired.\n",
    "    \"\"\"\n",
    "    if reprocess == True:\n",
    "        prompt += f\"\"\"\n",
    "Please focus on selecting a class from these values: {FormatClassList(classes)}. \n",
    "Other class choices, even if more descriptive, are not helpful in this instance.\n",
    "If the reviewer has mixed opinions (a combination of positive, disappointed, and/or angry) about an aspect of their experience, bias toward the negative; \n",
    "that is, classify according to the more negative statements and choose \"{valid_classes[0]}\" only if the review is solely comprised of positive statements.\n",
    "        \"\"\"\n",
    "\n",
    "    return prompt"
   ]
  },
  {
   "cell_type": "code",
   "execution_count": 76,
   "id": "44e4c945",
   "metadata": {},
   "outputs": [],
   "source": [
    "def ClassifyReview(review_text, business_name, classes, model='mistral',reprocess = False):\n",
    "    \"\"\"\n",
    "    Build the prompt and pass to the LLM for evaluation.\n",
    "    \"\"\"\n",
    "\n",
    "    url = \"http://localhost:11434/api/chat\"\n",
    "    headers = {\"Content-Type\": \"application/json\"}\n",
    "      \n",
    "    data = {\n",
    "        \"model\": model,\n",
    "        \"messages\": [\n",
    "            {\n",
    "                \"role\": \"system\",\n",
    "                \"content\": BuildPrompt(business_name,classes,reprocess) \n",
    "            },\n",
    "            {\n",
    "                \"role\": \"user\",\n",
    "                \"content\": review_text\n",
    "            }\n",
    "        ],\n",
    "        \"stream\": False\n",
    "    }\n",
    "\n",
    "    response = requests.post(url, json=data, headers=headers)\n",
    "    return response.json()[\"message\"][\"content\"]\n"
   ]
  },
  {
   "cell_type": "code",
   "execution_count": 77,
   "id": "d5bc60d8",
   "metadata": {},
   "outputs": [],
   "source": [
    "def ParseReviewAnalyticsOutput(text):\n",
    "    \"\"\"\n",
    "    Parses potentially messy JSON-like LLM output by:\n",
    "    - Truncating after the first closing brace\n",
    "    - Quoting unquoted keys\n",
    "    - Quoting unquoted string values\n",
    "    - Removing parenthetical commentary from values\n",
    "    - Falling back to regex if JSON parsing fails\n",
    "    Returns a dictionary with aspect classifications.\n",
    "    \"\"\"\n",
    "    # Truncate at first closing brace to avoid trailing commentary\n",
    "    text = text.strip()\n",
    "    closing_brace_index = text.find(\"}\")\n",
    "    if closing_brace_index != -1:\n",
    "        text = text[:closing_brace_index + 1]\n",
    "\n",
    "    # Remove parenthetical notes from values (e.g., \"none (but blah)\" -> \"none\")\n",
    "    text = re.sub(r'\"\\s*([^\"]*?)\\s*\\([^\"]*\\)\"', r'\"\\1\"', text)\n",
    "\n",
    "    # Fix unquoted keys\n",
    "    text = re.sub(r'([{,]\\s*)(\\w+)(\\s*:)', r'\\1\"\\2\"\\3', text)\n",
    "\n",
    "    # Fix unquoted string values (assume words are categorical, not numbers or booleans)\n",
    "    text = re.sub(r':\\s*([a-zA-Z_]+)(\\s*[,}])', r': \"\\1\"\\2', text)\n",
    "\n",
    "    # Try JSON parsing\n",
    "    try:\n",
    "        parsed = json.loads(text)\n",
    "        return {\n",
    "            \"food\": parsed.get(\"food\", \"none\").split()[0].lower(),\n",
    "            \"service\": parsed.get(\"service\", \"none\").split()[0].lower(),\n",
    "            \"ambiance\": parsed.get(\"ambiance\", \"none\").split()[0].lower()\n",
    "        }\n",
    "    except Exception:\n",
    "        pass  # fallback to regex next\n",
    "\n",
    "    # Fallback regex-based parsing\n",
    "    result = {\"food\": \"none\", \"service\": \"none\", \"ambiance\": \"none\"}\n",
    "    for aspect in [\"food\", \"service\", \"ambiance\"]:\n",
    "        match = re.search(rf'{aspect}\\s*[:=]\\s*[\"\\']?(\\w+)', text, re.IGNORECASE)\n",
    "        if match:\n",
    "            result[aspect] = match.group(1).lower()\n",
    "\n",
    "    return result\n"
   ]
  },
  {
   "cell_type": "code",
   "execution_count": 78,
   "id": "090a3854",
   "metadata": {},
   "outputs": [],
   "source": [
    "def GenerateReprocessData(df,classes):\n",
    "    \"\"\"\n",
    "    Checks model output for classifications that were not asked for in the prompt\n",
    "    If invalid output is found, remove from the main results dataset and set aside for reprocessing\n",
    "    \"\"\"\n",
    "    invalid_food = ~df[\"food\"].isin(classes)\n",
    "    invalid_service = ~df[\"service\"].isin(classes)\n",
    "    invalid_ambiance = ~df[\"ambiance\"].isin(classes)\n",
    "\n",
    "    to_reprocess = df[invalid_food | invalid_service | invalid_ambiance]\n",
    "    df = df.drop(labels = to_reprocess.index)\n",
    "    to_reprocess = to_reprocess.reset_index(drop=True)\n",
    "    return df,to_reprocess"
   ]
  },
  {
   "cell_type": "markdown",
   "id": "061d1dc0",
   "metadata": {},
   "source": [
    "### Review Evaluation Config\n",
    "- Set the possible classes (class = evaluation of review content, such as \"positive\" or \"disappointed\") here\n",
    "- View a printout of the finished prompt"
   ]
  },
  {
   "cell_type": "code",
   "execution_count": 79,
   "id": "91f85635",
   "metadata": {},
   "outputs": [
    {
     "name": "stdout",
     "output_type": "stream",
     "text": [
      "\n",
      "You are a restaurant review classifier that is reviewing {restaurant name}.\n",
      "Given a review of {restaurant name}, classify the reviewer's attitude toward three key aspects: food and drinks (including prices), service, and ambiance.\n",
      "Return a JSON-style matrix in this form: {\"food\": \"[class]\", \"service\": \"[class]\", \"ambiance\": \"[class]\"}.\n",
      "For [class], return one of four possible values: positive, disappointed, angry, and none.\n",
      "positive, disappointed, and angry are classifications of the reviewer's feelings toward their experience.\n",
      "Return \"none\" if the reviewer does not address a certain aspect of the experience.\n",
      "Here is an example review: \"The appetizers at this place were phenomenal, but the margaritas were overpriced and watery. Service was HORRENDOUS.\"\n",
      "In this example, return: {\"food\": \"disappointed\", \"service\": \"angry\", \"ambiance\": \"none\"}.\n",
      "Here is another example: \"Our server was outstanding and the entrees were perfectly cooked. We loved the decor, too!\"\n",
      "In this example, return: {\"food\": \"positive\", \"service\": \"positive\", \"ambiance\": \"positive\"}.\n",
      "No other output is desired.\n",
      "    \n",
      "Please focus on selecting a class from these values: positive, disappointed, angry, and none. \n",
      "Other class choices, even if more descriptive, are not helpful in this instance.\n",
      "If the reviewer has mixed opinions (a combination of positive, disappointed, and/or angry) about an aspect of their experience, bias toward the negative; \n",
      "that is, classify according to the more negative statements and choose \"positive\" only if the review is solely comprised of positive statements.\n",
      "        \n"
     ]
    }
   ],
   "source": [
    "valid_classes = [\"positive\",\"disappointed\",\"angry\",\"none\"]\n",
    "\n",
    "print(BuildPrompt(business_name=\"{restaurant name}\",classes=valid_classes,reprocess=True))"
   ]
  },
  {
   "cell_type": "markdown",
   "id": "f7b4c9c1",
   "metadata": {},
   "source": [
    "### Process Analytics\n",
    "- Pass all review content through the LLM to assign a class to each review\n",
    "- When the LLM assigns a class that was not asked for, isolate that review and reprocess it (two reprocessing cycles only)"
   ]
  },
  {
   "cell_type": "markdown",
   "id": "6c0c6775",
   "metadata": {},
   "source": [
    "##### Initial Processing Cycle (Longest)"
   ]
  },
  {
   "cell_type": "code",
   "execution_count": 80,
   "id": "02bd3af1",
   "metadata": {},
   "outputs": [
    {
     "name": "stdout",
     "output_type": "stream",
     "text": [
      "CPU times: user 1.5 s, sys: 501 ms, total: 2 s\n",
      "Wall time: 11min 57s\n"
     ]
    }
   ],
   "source": [
    "%%time\n",
    "\n",
    "# Process all reviews in the dataset. This is the most time-consuming execution step.\n",
    "result_list = []\n",
    "for review in reviews_df.itertuples():\n",
    "    result = ClassifyReview(review.text,business_name=review.name,classes=valid_classes,reprocess = False)\n",
    "    result_list.append(result)"
   ]
  },
  {
   "cell_type": "code",
   "execution_count": 81,
   "id": "6e6b73d1",
   "metadata": {},
   "outputs": [],
   "source": [
    "result_df = pd.concat([reviews_df,(pd.DataFrame(pd.Series(result_list).apply(ParseReviewAnalyticsOutput).tolist()))],axis = 1)"
   ]
  },
  {
   "cell_type": "markdown",
   "id": "f4860734",
   "metadata": {},
   "source": [
    "##### First Reprocessing Cycle"
   ]
  },
  {
   "cell_type": "code",
   "execution_count": 82,
   "id": "1385f02d",
   "metadata": {},
   "outputs": [],
   "source": [
    "# \"neutral\" is a common hallucination that the LLM has; this is best replaced with \"none\" to save reprocessing compute\n",
    "result_df = result_df.replace(to_replace=\"neutral\",value=valid_classes[-1])"
   ]
  },
  {
   "cell_type": "code",
   "execution_count": 83,
   "id": "996caf94",
   "metadata": {},
   "outputs": [],
   "source": [
    "# isolate reviews with invalid classes for reprocessing\n",
    "result_df,to_reprocess = GenerateReprocessData(result_df,valid_classes)\n",
    "\n",
    "# store the quantity of model output values where reprocessing is needed; will show up later in reprocessing statistics\n",
    "repr_stage1_invalid = to_reprocess[[\"food\",\"service\",\"ambiance\"]].size - to_reprocess[[\"food\",\"service\",\"ambiance\"]].isin(valid_classes).sum().sum()"
   ]
  },
  {
   "cell_type": "code",
   "execution_count": 84,
   "id": "425cc1e3",
   "metadata": {},
   "outputs": [
    {
     "name": "stdout",
     "output_type": "stream",
     "text": [
      "CPU times: user 2.72 ms, sys: 1.05 ms, total: 3.77 ms\n",
      "Wall time: 2.28 s\n"
     ]
    }
   ],
   "source": [
    "%%time\n",
    "\n",
    "# Execute reprocessing\n",
    "repr_result_list = []\n",
    "for review_repr in to_reprocess.itertuples():\n",
    "    repr_result = ClassifyReview(review_repr.text,business_name=review_repr.name,classes=valid_classes,reprocess = True)\n",
    "    repr_result_list.append(repr_result)"
   ]
  },
  {
   "cell_type": "markdown",
   "id": "cddd9ba6",
   "metadata": {},
   "source": [
    "##### Second Reprocessing Cycle"
   ]
  },
  {
   "cell_type": "code",
   "execution_count": 85,
   "id": "665ce7d8",
   "metadata": {},
   "outputs": [],
   "source": [
    "# recheck the reprocessed data for invalid classes\n",
    "to_reprocess_again = pd.concat([to_reprocess[[\"name\",\"text\",\"total_reviews\"]],(pd.DataFrame(pd.Series(repr_result_list).apply(ParseReviewAnalyticsOutput).tolist()))],axis = 1)\n",
    "\n",
    "# as before, store the quantity of model output values where reprocessing is needed for reprocessing statistics\n",
    "repr_stage2_invalid = to_reprocess_again[[\"food\",\"service\",\"ambiance\"]].size - to_reprocess_again[[\"food\",\"service\",\"ambiance\"]].isin(valid_classes).sum().sum()"
   ]
  },
  {
   "cell_type": "markdown",
   "id": "fd8e924b",
   "metadata": {},
   "source": [
    "Instead of using the model for the second reprocessing, simply replace invalid classes with \"none\" or whatever neutral class has been defined:"
   ]
  },
  {
   "cell_type": "code",
   "execution_count": 86,
   "id": "52dd4728",
   "metadata": {},
   "outputs": [],
   "source": [
    "reprocessed = to_reprocess_again.copy()\n",
    "if reprocessed.shape[0] > 0:\n",
    "    reprocessed.loc[~reprocessed[\"food\"].isin(valid_classes),[\"food\"]] = valid_classes[-1]\n",
    "    reprocessed.loc[~reprocessed[\"service\"].isin(valid_classes),[\"service\"]] = valid_classes[-1]\n",
    "    reprocessed.loc[~reprocessed[\"ambiance\"].isin(valid_classes),[\"ambiance\"]] = valid_classes[-1]\n"
   ]
  },
  {
   "cell_type": "code",
   "execution_count": 87,
   "id": "c7548cd1",
   "metadata": {},
   "outputs": [],
   "source": [
    "result_df = pd.concat([result_df,reprocessed],axis = 0).reset_index(drop = True)"
   ]
  },
  {
   "cell_type": "markdown",
   "id": "fa1b067a",
   "metadata": {},
   "source": [
    "### Load Result DF Here"
   ]
  },
  {
   "cell_type": "code",
   "execution_count": 88,
   "id": "1d8b3da6",
   "metadata": {},
   "outputs": [
    {
     "data": {
      "text/plain": [
       "['scratch_work_files/post_reprocess_dataframe3.pkl']"
      ]
     },
     "execution_count": 88,
     "metadata": {},
     "output_type": "execute_result"
    }
   ],
   "source": [
    "import joblib\n",
    "import pandas as pd\n",
    "import matplotlib.pyplot as plt\n",
    "\n",
    "joblib.dump(result_df,\"scratch_work_files/results_sample3.pkl\")\n",
    "joblib.dump(to_reprocess,\"scratch_work_files/pre_reprocess_dataframe3.pkl\")\n",
    "joblib.dump(reprocessed,\"scratch_work_files/post_reprocess_dataframe3.pkl\")\n",
    "\n",
    "# result_df = joblib.load(\"scratch_work_files/results_sample1.pkl\")\n",
    "# to_reprocess = joblib.load(\"scratch_work_files/pre_reprocess_dataframe1.pkl\")\n",
    "# to_reprocess_again = joblib.load(\"scratch_work_files/post_reprocess_dataframe1.pkl\")"
   ]
  },
  {
   "cell_type": "markdown",
   "id": "f3cc84dc",
   "metadata": {},
   "source": [
    "### Plot Analysis Results\n",
    "- For each restaurant in the sample, show proportions of each class for each aspect (for example: food = 75% positive, 10% disappointed, 5% angry, 10% none)"
   ]
  },
  {
   "cell_type": "code",
   "execution_count": 89,
   "id": "67d7b396",
   "metadata": {},
   "outputs": [
    {
     "data": {
      "image/png": "[encoded data removed]",
      "text/plain": [
       "<Figure size 1800x650 with 3 Axes>"
      ]
     },
     "metadata": {},
     "output_type": "display_data"
    }
   ],
   "source": [
    "# Melt into long format\n",
    "melted = result_df.melt(\n",
    "    id_vars=\"name\",\n",
    "    value_vars=[\"food\", \"service\", \"ambiance\"],\n",
    "    var_name=\"aspect\",\n",
    "    value_name=\"emotion\"\n",
    ")\n",
    "\n",
    "# Count occurrences\n",
    "counts = (\n",
    "    melted.groupby([\"name\", \"aspect\", \"emotion\"])\n",
    "    .size()\n",
    "    .reset_index(name=\"count\")\n",
    ")\n",
    "\n",
    "# Pivot for stacked bars\n",
    "pivoted = counts.pivot_table(\n",
    "    index=[\"name\", \"aspect\"],\n",
    "    columns=\"emotion\",\n",
    "    values=\"count\",\n",
    "    fill_value=0\n",
    ")\n",
    "\n",
    "# Ensure consistent emotion order\n",
    "emotion_order = [\"positive\", \"disappointed\", \"angry\", \"none\"]\n",
    "pivoted = pivoted.reindex(columns=emotion_order, fill_value=0)\n",
    "\n",
    "# Add row totals for percentage & total labels\n",
    "pivoted[\"total\"] = pivoted.sum(axis=1)\n",
    "\n",
    "# Create subplots\n",
    "restaurants = pivoted.index.get_level_values(0).unique()\n",
    "n_restaurants = len(restaurants)\n",
    "\n",
    "fig, axes = plt.subplots(1, n_restaurants, figsize=(6 * n_restaurants, 6.5), sharey=True)\n",
    "\n",
    "if n_restaurants == 1:\n",
    "    axes = [axes]\n",
    "\n",
    "for ax, restaurant in zip(axes, restaurants):\n",
    "    group = pivoted.loc[restaurant]\n",
    "    group_no_total = group.drop(columns=\"total\")\n",
    "    group_no_total.index = pd.Categorical(group_no_total.index,categories=[\"food\",\"service\",\"ambiance\"],ordered=True)\n",
    "    group_no_total = group_no_total.sort_index()\n",
    "\n",
    "    # Plot stacked bars\n",
    "    group_no_total.plot(\n",
    "        kind=\"bar\",\n",
    "        stacked=True,\n",
    "        ax=ax,\n",
    "        colormap=\"Set2\",\n",
    "        legend=(ax == axes[0])\n",
    "    )\n",
    "    ax.set_title(restaurant,fontsize = 13)\n",
    "    ax.set_ylabel(\"Review Count\",fontsize = 12)\n",
    "    # ax.set_xlabel(\"Aspect\",fontsize = 12)\n",
    "    ax.tick_params(axis=\"x\", rotation=0,labelsize = 12)\n",
    "\n",
    "\n",
    "    # Create annotations\n",
    "    for container in ax.containers:\n",
    "        for rect in container:\n",
    "            height = rect.get_height()\n",
    "            if height > 0:\n",
    "                total_height = group[\"total\"].values[0]\n",
    "                percentage = 100 * height / total_height\n",
    "                ax.annotate(f\"{percentage:.0f}%\",\n",
    "                            xy=(rect.get_x() + rect.get_width() / 2,\n",
    "                                rect.get_y() + height / 2),\n",
    "                            ha=\"center\", va=\"center\", fontsize=10, color=\"black\")\n",
    "\n",
    "    # Add total count labels above bars\n",
    "    for idx, (aspect, row) in enumerate(group.iterrows()):\n",
    "        total = row[\"total\"]\n",
    "        ax.annotate(f\"Total: {total}\",\n",
    "                    xy=(idx, total),\n",
    "                    xytext=(0, 5),\n",
    "                    textcoords=\"offset points\",\n",
    "                    ha=\"center\", va=\"bottom\", fontsize=11, fontweight=\"bold\")\n",
    "\n",
    "# Legend\n",
    "handles, labels = axes[0].get_legend_handles_labels()\n",
    "fig.legend(handles, labels, title=\"Emotion\", loc=\"upper right\")\n",
    "\n",
    "\n",
    "plt.tight_layout()\n",
    "plt.subplots_adjust(top = 0.9)\n",
    "plt.suptitle(\"Restaurant Review Emotions\",fontsize = 15)\n",
    "plt.show()"
   ]
  },
  {
   "cell_type": "code",
   "execution_count": null,
   "id": "705c9d00",
   "metadata": {},
   "outputs": [],
   "source": [
    "# restaurant = \"Cafe Du Monde\"\n",
    "# y_lim_top = group[\"total\"].values[0]*1.3\n",
    "\n",
    "# fig,ax = plt.subplots(figsize = (8,6))   \n",
    "# group = pivoted.loc[restaurant]\n",
    "# group_no_total = group.drop(columns=\"total\")\n",
    "# group_no_total.index = pd.Categorical(group_no_total.index,categories=[\"food\",\"service\",\"ambiance\"],ordered=True)\n",
    "# group_no_total = group_no_total.sort_index()\n",
    "\n",
    "# # Plot stacked bars\n",
    "# group_no_total.plot(\n",
    "#     kind=\"bar\",\n",
    "#     stacked=True,\n",
    "#     ax=ax,\n",
    "#     colormap=\"Set2\",\n",
    "#     legend=(ax == axes[0])\n",
    "# )\n",
    "# ax.set_title(restaurant,fontsize = 14)\n",
    "# ax.set_ylabel(\"Review Count\",fontsize = 10)\n",
    "# ax.set_ylim(0,y_lim_top)\n",
    "# # ax.set_xlabel(\"Aspect\",fontsize = 12)\n",
    "# ax.tick_params(axis=\"x\", rotation=0,labelsize = 10)\n",
    "\n",
    "\n",
    "# # Create annotations\n",
    "# for container in ax.containers:\n",
    "#     for rect in container:\n",
    "#         height = rect.get_height()\n",
    "#         if height > 0:\n",
    "#             total_height = group[\"total\"].values[0]\n",
    "#             percentage = 100 * height / total_height\n",
    "#             ax.annotate(f\"{percentage:.0f}%\",\n",
    "#                         xy=(rect.get_x() + rect.get_width() / 2,\n",
    "#                             rect.get_y() + height / 2),\n",
    "#                         ha=\"center\", va=\"center\", fontsize=10, color=\"black\")\n",
    "\n",
    "# # Add total count labels above bars\n",
    "# for idx, (aspect, row) in enumerate(group.iterrows()):\n",
    "#     total = row[\"total\"]\n",
    "#     ax.annotate(f\"Total: {total}\",\n",
    "#                 xy=(idx, total),\n",
    "#                 xytext=(0, 5),\n",
    "#                 textcoords=\"offset points\",\n",
    "#                 ha=\"center\", va=\"bottom\", fontsize=11, fontweight=\"bold\")\n",
    "\n",
    "# # Legend\n",
    "# handles, labels = axes[0].get_legend_handles_labels()\n",
    "# fig.legend(handles, labels, title=\"Emotion\", loc=\"upper right\")\n",
    "\n",
    "\n",
    "# plt.tight_layout()\n",
    "# plt.subplots_adjust(top = 0.9)\n",
    "# # plt.suptitle(\"Restaurant Review Emotions\",fontsize = 12)\n",
    "# plt.show()"
   ]
  },
  {
   "cell_type": "markdown",
   "id": "6842e373",
   "metadata": {},
   "source": [
    "### Generate Reprocessing Statistics\n",
    "- Monitor the model for instances where reprocessing is needed (i.e. LLM returns an invalid class)\n",
    "- In testing, <1% of model output needed to be reprocessed; if this begins to increase, the model may be failing"
   ]
  },
  {
   "cell_type": "code",
   "execution_count": 91,
   "id": "f586fcf2",
   "metadata": {},
   "outputs": [
    {
     "name": "stdout",
     "output_type": "stream",
     "text": [
      "Initial Results Needing Reprocessing\n"
     ]
    },
    {
     "data": {
      "text/html": [
       "<style type=\"text/css\">\n",
       "#T_c0db1_row0_col3 {\n",
       "  background-color: lightcoral;\n",
       "  color: white;\n",
       "}\n",
       "</style>\n",
       "<table id=\"T_c0db1\">\n",
       "  <thead>\n",
       "    <tr>\n",
       "      <th class=\"blank level0\" >&nbsp;</th>\n",
       "      <th id=\"T_c0db1_level0_col0\" class=\"col_heading level0 col0\" >name</th>\n",
       "      <th id=\"T_c0db1_level0_col1\" class=\"col_heading level0 col1\" >text</th>\n",
       "      <th id=\"T_c0db1_level0_col2\" class=\"col_heading level0 col2\" >total_reviews</th>\n",
       "      <th id=\"T_c0db1_level0_col3\" class=\"col_heading level0 col3\" >food</th>\n",
       "      <th id=\"T_c0db1_level0_col4\" class=\"col_heading level0 col4\" >service</th>\n",
       "      <th id=\"T_c0db1_level0_col5\" class=\"col_heading level0 col5\" >ambiance</th>\n",
       "    </tr>\n",
       "  </thead>\n",
       "  <tbody>\n",
       "    <tr>\n",
       "      <th id=\"T_c0db1_level0_row0\" class=\"row_heading level0 row0\" >0</th>\n",
       "      <td id=\"T_c0db1_row0_col0\" class=\"data row0 col0\" >Pita Kebob</td>\n",
       "      <td id=\"T_c0db1_row0_col1\" class=\"data row0 col1\" >I ordered the Falafel Pita Sandwich with chicken, which also came with fries. I don't have much experience with Mediterranean food, but I liked it. The boyfriend thought it lacked flavor and was missing something, whereas I thought it very flavorful. He also felt that the yogurt sauce was overpowering, but I thought it added to the flavor. Decor seemed a bit tacky to me, but that doesn't stop me if the food is good. Service was fine. One gripe I had was that the added chicken was an extra $2 instead of $1 as advertised on their website. I also gave their Mango smoothie a try, but did not care for it at all. I took a few sips and didn't want to finish it as it had a weird taste to it and it left an aftertaste that lingered. My boyfriend thinks the taste was due to fake sugar being used, but either way I'm never ordering a smoothie from there again.</td>\n",
       "      <td id=\"T_c0db1_row0_col2\" class=\"data row0 col2\" >115</td>\n",
       "      <td id=\"T_c0db1_row0_col3\" class=\"data row0 col3\" >positive_disappointed</td>\n",
       "      <td id=\"T_c0db1_row0_col4\" class=\"data row0 col4\" >none</td>\n",
       "      <td id=\"T_c0db1_row0_col5\" class=\"data row0 col5\" >disappointed</td>\n",
       "    </tr>\n",
       "  </tbody>\n",
       "</table>\n"
      ],
      "text/plain": [
       "<pandas.io.formats.style.Styler at 0x37a37b020>"
      ]
     },
     "metadata": {},
     "output_type": "display_data"
    },
    {
     "name": "stdout",
     "output_type": "stream",
     "text": [
      "Reprocessed Results Needing a Second Reprocessing\n"
     ]
    },
    {
     "data": {
      "text/html": [
       "<style type=\"text/css\">\n",
       "#T_d6c0f_row0_col3 {\n",
       "  background-color: lightcoral;\n",
       "  color: white;\n",
       "}\n",
       "</style>\n",
       "<table id=\"T_d6c0f\">\n",
       "  <thead>\n",
       "    <tr>\n",
       "      <th class=\"blank level0\" >&nbsp;</th>\n",
       "      <th id=\"T_d6c0f_level0_col0\" class=\"col_heading level0 col0\" >name</th>\n",
       "      <th id=\"T_d6c0f_level0_col1\" class=\"col_heading level0 col1\" >text</th>\n",
       "      <th id=\"T_d6c0f_level0_col2\" class=\"col_heading level0 col2\" >total_reviews</th>\n",
       "      <th id=\"T_d6c0f_level0_col3\" class=\"col_heading level0 col3\" >food</th>\n",
       "      <th id=\"T_d6c0f_level0_col4\" class=\"col_heading level0 col4\" >service</th>\n",
       "      <th id=\"T_d6c0f_level0_col5\" class=\"col_heading level0 col5\" >ambiance</th>\n",
       "    </tr>\n",
       "  </thead>\n",
       "  <tbody>\n",
       "    <tr>\n",
       "      <th id=\"T_d6c0f_level0_row0\" class=\"row_heading level0 row0\" >0</th>\n",
       "      <td id=\"T_d6c0f_row0_col0\" class=\"data row0 col0\" >Pita Kebob</td>\n",
       "      <td id=\"T_d6c0f_row0_col1\" class=\"data row0 col1\" >I ordered the Falafel Pita Sandwich with chicken, which also came with fries. I don't have much experience with Mediterranean food, but I liked it. The boyfriend thought it lacked flavor and was missing something, whereas I thought it very flavorful. He also felt that the yogurt sauce was overpowering, but I thought it added to the flavor. Decor seemed a bit tacky to me, but that doesn't stop me if the food is good. Service was fine. One gripe I had was that the added chicken was an extra $2 instead of $1 as advertised on their website. I also gave their Mango smoothie a try, but did not care for it at all. I took a few sips and didn't want to finish it as it had a weird taste to it and it left an aftertaste that lingered. My boyfriend thinks the taste was due to fake sugar being used, but either way I'm never ordering a smoothie from there again.</td>\n",
       "      <td id=\"T_d6c0f_row0_col2\" class=\"data row0 col2\" >115</td>\n",
       "      <td id=\"T_d6c0f_row0_col3\" class=\"data row0 col3\" >mixed</td>\n",
       "      <td id=\"T_d6c0f_row0_col4\" class=\"data row0 col4\" >disappointed</td>\n",
       "      <td id=\"T_d6c0f_row0_col5\" class=\"data row0 col5\" >disappointed</td>\n",
       "    </tr>\n",
       "  </tbody>\n",
       "</table>\n"
      ],
      "text/plain": [
       "<pandas.io.formats.style.Styler at 0x37a6fb920>"
      ]
     },
     "metadata": {},
     "output_type": "display_data"
    }
   ],
   "source": [
    "def highlight_invalid(val):\n",
    "    if val not in valid_classes:\n",
    "        return \"background-color: lightcoral; color: white;\" \n",
    "    return \"\"\n",
    "\n",
    "to_reprocess_highlighted = to_reprocess.style.map(highlight_invalid, subset=[\"food\", \"service\", \"ambiance\"])\n",
    "to_reprocess_again_highlighted = to_reprocess_again.style.map(highlight_invalid,subset=[\"food\",\"service\",\"ambiance\"])\n",
    "\n",
    "print(\"Initial Results Needing Reprocessing\")\n",
    "display(to_reprocess_highlighted)\n",
    "print(\"Reprocessed Results Needing a Second Reprocessing\")\n",
    "display(to_reprocess_again_highlighted)"
   ]
  },
  {
   "cell_type": "code",
   "execution_count": 92,
   "id": "1dda1cbc",
   "metadata": {},
   "outputs": [
    {
     "data": {
      "image/png": "[encoded data removed]",
      "text/plain": [
       "<Figure size 800x300 with 1 Axes>"
      ]
     },
     "metadata": {},
     "output_type": "display_data"
    }
   ],
   "source": [
    "# Plot the reprocessing statistics\n",
    "\n",
    "# build a dataframe tallying valid and invalid model output\n",
    "repr_stats_df = pd.DataFrame({\n",
    "\"valid\":[result_df.size - repr_stage2_invalid,result_df.size - repr_stage1_invalid],\n",
    "\"invalid\":[repr_stage2_invalid,repr_stage1_invalid],\n",
    "},index =[\"after first reprocessing\",\"initial pass\"]\n",
    ")\n",
    "\n",
    "# build and annotate a plot of the dataframe\n",
    "fig,ax = plt.subplots(1,1,figsize = (8,3))\n",
    "\n",
    "color_map = {\"valid\":\"#BBFCBC\",\"invalid\":\"#FD8B8B\"}\n",
    "repr_stats_df.plot(\n",
    "    kind = \"barh\",\n",
    "    stacked = True,\n",
    "    ax = ax,\n",
    "    color = [color_map[col] for col in repr_stats_df.columns],\n",
    "    edgecolor = \"gray\",\n",
    "    linewidth = 0.5\n",
    ")\n",
    "                   \n",
    "ax.set_xlim([result_df.size*0.85,result_df.size*1.05])\n",
    "ax.set_title(\"Reprocessing Statistics\")\n",
    "\n",
    "# annotate percentages\n",
    "for container in ax.containers:\n",
    "    for rect in container:\n",
    "        width = rect.get_width()\n",
    "        if width > 0:\n",
    "            percentage = 100 * width / result_df.size\n",
    "            ax.annotate(f\"{percentage:.2f}% ({width:.0f})\",\n",
    "                        xy=(rect.get_x() + width*0.95,\n",
    "                            rect.get_y() + rect.get_height() / 2),\n",
    "                        ha=\"center\", va=\"center\", fontsize=10, color=\"black\")\n",
    "\n",
    "for idx,row in enumerate(repr_stats_df.itertuples()):\n",
    "    total = row.valid + row.invalid\n",
    "    ax.annotate(f\"Total: {total}\",\n",
    "                xy=(total,idx),\n",
    "                xytext=(70, -5),\n",
    "                textcoords=\"offset points\",\n",
    "                ha=\"center\", va=\"bottom\", fontsize=11, fontweight=\"bold\")\n",
    "    \n",
    "handles, labels = ax.get_legend_handles_labels()\n",
    "ax.legend(handles, labels, title =\"\", loc=\"upper left\")\n",
    "plt.tight_layout()"
   ]
  }
 ],
 "metadata": {
  "kernelspec": {
   "display_name": ".venv",
   "language": "python",
   "name": "python3"
  },
  "language_info": {
   "codemirror_mode": {
    "name": "ipython",
    "version": 3
   },
   "file_extension": ".py",
   "mimetype": "text/x-python",
   "name": "python",
   "nbconvert_exporter": "python",
   "pygments_lexer": "ipython3",
   "version": "3.12.11"
  }
 },
 "nbformat": 4,
 "nbformat_minor": 5
}
